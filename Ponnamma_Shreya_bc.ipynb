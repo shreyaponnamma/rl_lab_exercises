{
  "cells": [
    {
      "cell_type": "markdown",
      "metadata": {
        "id": "fkTS1keIbjlj"
      },
      "source": [
        "# Exercise 1 - Introduction to PyTorch and Behavior Cloning\n",
        "\n",
        "In this exercise, we introduce the fundamental concepts of PyTorch and show how this framework can be applied to build and train custom neural networks.\n",
        "We then utilize these networks to train an agent to play a simple video game from demonstrations.\n",
        "\n"
      ]
    },
    {
      "cell_type": "markdown",
      "metadata": {
        "id": "pUbcqyR_bjll"
      },
      "source": [
        "## 0 Install packages and dependencies\n",
        "\n",
        "We recommend using a ``conda`` environment (or virtual environments) for this and the follwing exercises. If you are not familiar with Anaconda, you can read this tutorial: [Getting started with conda]( https://conda.io/projects/conda/en/latest/user-guide/getting-started.html).\n",
        "\n",
        "Here's an example of the steps you can take:\n",
        "1. Install a conda distribution on your machine\n",
        "2. Create a new conda Python 3.9 environment with name rl_lab: ``conda create --name rl_lab python=3.9``\n",
        "3. Activate the environment: ``conda activate rl_lab``\n",
        "4. Install dependencies using the code cell below"
      ]
    },
    {
      "cell_type": "code",
      "execution_count": 65,
      "metadata": {
        "colab": {
          "base_uri": "https://localhost:8080/"
        },
        "id": "hpvfyf6qbjlm",
        "outputId": "a46c1dc1-3643-4462-e366-7948b50cf2cb"
      },
      "outputs": [
        {
          "output_type": "stream",
          "name": "stdout",
          "text": [
            "Requirement already satisfied: torch in /usr/local/lib/python3.10/dist-packages (2.5.0+cu121)\n",
            "Requirement already satisfied: torchvision in /usr/local/lib/python3.10/dist-packages (0.20.0+cu121)\n",
            "Requirement already satisfied: torchaudio in /usr/local/lib/python3.10/dist-packages (2.5.0+cu121)\n",
            "Requirement already satisfied: filelock in /usr/local/lib/python3.10/dist-packages (from torch) (3.16.1)\n",
            "Requirement already satisfied: typing-extensions>=4.8.0 in /usr/local/lib/python3.10/dist-packages (from torch) (4.12.2)\n",
            "Requirement already satisfied: networkx in /usr/local/lib/python3.10/dist-packages (from torch) (3.4.2)\n",
            "Requirement already satisfied: jinja2 in /usr/local/lib/python3.10/dist-packages (from torch) (3.1.4)\n",
            "Requirement already satisfied: fsspec in /usr/local/lib/python3.10/dist-packages (from torch) (2024.6.1)\n",
            "Requirement already satisfied: sympy==1.13.1 in /usr/local/lib/python3.10/dist-packages (from torch) (1.13.1)\n",
            "Requirement already satisfied: mpmath<1.4,>=1.1.0 in /usr/local/lib/python3.10/dist-packages (from sympy==1.13.1->torch) (1.3.0)\n",
            "Requirement already satisfied: numpy in /usr/local/lib/python3.10/dist-packages (from torchvision) (1.26.4)\n",
            "Requirement already satisfied: pillow!=8.3.*,>=5.3.0 in /usr/local/lib/python3.10/dist-packages (from torchvision) (10.4.0)\n",
            "Requirement already satisfied: MarkupSafe>=2.0 in /usr/local/lib/python3.10/dist-packages (from jinja2->torch) (3.0.2)\n",
            "Requirement already satisfied: gymnasium==0.29.1 in /usr/local/lib/python3.10/dist-packages (0.29.1)\n",
            "Requirement already satisfied: numpy>=1.21.0 in /usr/local/lib/python3.10/dist-packages (from gymnasium==0.29.1) (1.26.4)\n",
            "Requirement already satisfied: cloudpickle>=1.2.0 in /usr/local/lib/python3.10/dist-packages (from gymnasium==0.29.1) (3.1.0)\n",
            "Requirement already satisfied: typing-extensions>=4.3.0 in /usr/local/lib/python3.10/dist-packages (from gymnasium==0.29.1) (4.12.2)\n",
            "Requirement already satisfied: farama-notifications>=0.0.1 in /usr/local/lib/python3.10/dist-packages (from gymnasium==0.29.1) (0.0.4)\n",
            "Requirement already satisfied: minatar==1.0.15 in /usr/local/lib/python3.10/dist-packages (1.0.15)\n",
            "Requirement already satisfied: cycler>=0.10.0 in /usr/local/lib/python3.10/dist-packages (from minatar==1.0.15) (0.12.1)\n",
            "Requirement already satisfied: kiwisolver>=1.0.1 in /usr/local/lib/python3.10/dist-packages (from minatar==1.0.15) (1.4.7)\n",
            "Requirement already satisfied: matplotlib>=3.0.3 in /usr/local/lib/python3.10/dist-packages (from minatar==1.0.15) (3.7.1)\n",
            "Requirement already satisfied: numpy>=1.16.2 in /usr/local/lib/python3.10/dist-packages (from minatar==1.0.15) (1.26.4)\n",
            "Requirement already satisfied: pandas>=0.24.2 in /usr/local/lib/python3.10/dist-packages (from minatar==1.0.15) (2.2.2)\n",
            "Requirement already satisfied: pyparsing>=2.3.1 in /usr/local/lib/python3.10/dist-packages (from minatar==1.0.15) (3.2.0)\n",
            "Requirement already satisfied: python-dateutil>=2.8.0 in /usr/local/lib/python3.10/dist-packages (from minatar==1.0.15) (2.8.2)\n",
            "Requirement already satisfied: pytz>=2018.9 in /usr/local/lib/python3.10/dist-packages (from minatar==1.0.15) (2024.2)\n",
            "Requirement already satisfied: scipy>=1.2.1 in /usr/local/lib/python3.10/dist-packages (from minatar==1.0.15) (1.13.1)\n",
            "Requirement already satisfied: seaborn>=0.9.0 in /usr/local/lib/python3.10/dist-packages (from minatar==1.0.15) (0.13.2)\n",
            "Requirement already satisfied: six>=1.12.0 in /usr/local/lib/python3.10/dist-packages (from minatar==1.0.15) (1.16.0)\n",
            "Requirement already satisfied: contourpy>=1.0.1 in /usr/local/lib/python3.10/dist-packages (from matplotlib>=3.0.3->minatar==1.0.15) (1.3.0)\n",
            "Requirement already satisfied: fonttools>=4.22.0 in /usr/local/lib/python3.10/dist-packages (from matplotlib>=3.0.3->minatar==1.0.15) (4.54.1)\n",
            "Requirement already satisfied: packaging>=20.0 in /usr/local/lib/python3.10/dist-packages (from matplotlib>=3.0.3->minatar==1.0.15) (24.1)\n",
            "Requirement already satisfied: pillow>=6.2.0 in /usr/local/lib/python3.10/dist-packages (from matplotlib>=3.0.3->minatar==1.0.15) (10.4.0)\n",
            "Requirement already satisfied: tzdata>=2022.7 in /usr/local/lib/python3.10/dist-packages (from pandas>=0.24.2->minatar==1.0.15) (2024.2)\n",
            "Requirement already satisfied: matplotlib in /usr/local/lib/python3.10/dist-packages (3.7.1)\n",
            "Requirement already satisfied: contourpy>=1.0.1 in /usr/local/lib/python3.10/dist-packages (from matplotlib) (1.3.0)\n",
            "Requirement already satisfied: cycler>=0.10 in /usr/local/lib/python3.10/dist-packages (from matplotlib) (0.12.1)\n",
            "Requirement already satisfied: fonttools>=4.22.0 in /usr/local/lib/python3.10/dist-packages (from matplotlib) (4.54.1)\n",
            "Requirement already satisfied: kiwisolver>=1.0.1 in /usr/local/lib/python3.10/dist-packages (from matplotlib) (1.4.7)\n",
            "Requirement already satisfied: numpy>=1.20 in /usr/local/lib/python3.10/dist-packages (from matplotlib) (1.26.4)\n",
            "Requirement already satisfied: packaging>=20.0 in /usr/local/lib/python3.10/dist-packages (from matplotlib) (24.1)\n",
            "Requirement already satisfied: pillow>=6.2.0 in /usr/local/lib/python3.10/dist-packages (from matplotlib) (10.4.0)\n",
            "Requirement already satisfied: pyparsing>=2.3.1 in /usr/local/lib/python3.10/dist-packages (from matplotlib) (3.2.0)\n",
            "Requirement already satisfied: python-dateutil>=2.7 in /usr/local/lib/python3.10/dist-packages (from matplotlib) (2.8.2)\n",
            "Requirement already satisfied: six>=1.5 in /usr/local/lib/python3.10/dist-packages (from python-dateutil>=2.7->matplotlib) (1.16.0)\n",
            "Requirement already satisfied: imageio in /usr/local/lib/python3.10/dist-packages (2.35.1)\n",
            "Requirement already satisfied: numpy in /usr/local/lib/python3.10/dist-packages (from imageio) (1.26.4)\n",
            "Requirement already satisfied: pillow>=8.3.2 in /usr/local/lib/python3.10/dist-packages (from imageio) (10.4.0)\n"
          ]
        }
      ],
      "source": [
        "!pip install torch torchvision torchaudio\n",
        "!pip install gymnasium==0.29.1\n",
        "!pip install minatar==1.0.15\n",
        "!pip install matplotlib\n",
        "!pip install imageio"
      ]
    },
    {
      "cell_type": "markdown",
      "metadata": {
        "id": "dflGT04objln"
      },
      "source": [
        "## 1 Introduction to PyTorch\n",
        "\n",
        "PyTorch is a Python-based library designed for deep learning. It is distinguished by its dynamic computational graph, which enables researchers and developers to construct models with a high degree of flexibility. PyTorch has found extensive use in various scientific and engineering domains due to its ease of use and extensive research-friendly features.\n",
        "\n",
        "This exercise is based on the [PyTorch 60-Minute Blitz](https://pytorch.org/tutorials/beginner/deep_learning_60min_blitz.html)."
      ]
    },
    {
      "cell_type": "markdown",
      "metadata": {
        "id": "aLfl6fJtbjln"
      },
      "source": [
        "### 1.1 Tensors\n",
        "Tensors are used to encode inputs and outputs of a model, as well as a model's parameters. They are comparable to NumPy's ndarrays, but they have the advantage that PyTorch tensors can run on GPUs and other accelerators.\n",
        "\n",
        "Extra resources: [Intuition behind tensors](https://www.youtube.com/watch?v=f5liqUk0ZTw)"
      ]
    },
    {
      "cell_type": "code",
      "execution_count": 66,
      "metadata": {
        "id": "pxk9f2jwbjln"
      },
      "outputs": [],
      "source": [
        "import torch\n",
        "import numpy as np"
      ]
    },
    {
      "cell_type": "markdown",
      "metadata": {
        "id": "XLQfMVEjbjln"
      },
      "source": [
        "**1.1.1 Tensor Initialization**\n",
        "\n",
        "Tensors can be initialized in multiple ways."
      ]
    },
    {
      "cell_type": "code",
      "execution_count": 67,
      "metadata": {
        "colab": {
          "base_uri": "https://localhost:8080/"
        },
        "id": "dkwzca7kbjln",
        "outputId": "9e13279c-e959-4434-fce8-272f86a09b8e"
      },
      "outputs": [
        {
          "output_type": "stream",
          "name": "stdout",
          "text": [
            "Tensor from data: \n",
            " tensor([[1, 2],\n",
            "        [3, 4]]) \n",
            "\n",
            "Tensor from NumPy array: \n",
            " tensor([[1, 2],\n",
            "        [3, 4]]) \n",
            "\n",
            "Shape given by another tensor:\n",
            "Ones Tensor: \n",
            " tensor([[1, 1],\n",
            "        [1, 1]]) \n",
            "\n",
            "Random Tensor: \n",
            " tensor([[0.6876, 0.6985],\n",
            "        [0.8283, 0.1856]]) \n",
            "\n",
            "Shape defined: (2, 3)\n",
            "Random Tensor: \n",
            " tensor([[0.2313, 0.8234, 0.7613],\n",
            "        [0.4428, 0.1811, 0.2222]]) \n",
            "\n",
            "Ones Tensor: \n",
            " tensor([[1., 1., 1.],\n",
            "        [1., 1., 1.]]) \n",
            "\n",
            "Zeros Tensor: \n",
            " tensor([[0., 0., 0.],\n",
            "        [0., 0., 0.]])\n"
          ]
        }
      ],
      "source": [
        "# directly from data\n",
        "data = [[1, 2], [3, 4]]\n",
        "x_data = torch.tensor(data)\n",
        "print(f\"Tensor from data: \\n {x_data} \\n\")\n",
        "\n",
        "# from a NumPy array\n",
        "np_array = np.array(data)\n",
        "x_np = torch.from_numpy(np_array)\n",
        "print(f\"Tensor from NumPy array: \\n {x_np} \\n\")\n",
        "\n",
        "# from another tensor\n",
        "print(\"Shape given by another tensor:\")\n",
        "x_ones = torch.ones_like(x_data) # retains the properties of x_data\n",
        "print(f\"Ones Tensor: \\n {x_ones} \\n\")\n",
        "x_rand = torch.rand_like(x_data, dtype=torch.float) # overrides the datatype of x_data\n",
        "print(f\"Random Tensor: \\n {x_rand} \\n\")\n",
        "\n",
        "# with random or constant values\n",
        "shape = (2, 3,)\n",
        "print(\"Shape defined:\", shape)\n",
        "rand_tensor = torch.rand(shape)\n",
        "ones_tensor = torch.ones(shape)\n",
        "zeros_tensor = torch.zeros(shape)\n",
        "print(f\"Random Tensor: \\n {rand_tensor} \\n\")\n",
        "print(f\"Ones Tensor: \\n {ones_tensor} \\n\")\n",
        "print(f\"Zeros Tensor: \\n {zeros_tensor}\")"
      ]
    },
    {
      "cell_type": "markdown",
      "metadata": {
        "id": "6B_h7Y8Bbjln"
      },
      "source": [
        "**1.1.2 Tensor Attributes**\n",
        "\n",
        "We can print information such as the tensor shape, the tensor datatype, and the device on which they are stored."
      ]
    },
    {
      "cell_type": "code",
      "execution_count": 68,
      "metadata": {
        "colab": {
          "base_uri": "https://localhost:8080/"
        },
        "id": "-knJUMfybjlo",
        "outputId": "031dbc60-74a3-46de-bd92-8573b6555d56"
      },
      "outputs": [
        {
          "output_type": "stream",
          "name": "stdout",
          "text": [
            "Shape of tensor: torch.Size([3, 4])\n",
            "Datatype of tensor: torch.float32\n",
            "Device tensor is stored on: cpu\n"
          ]
        }
      ],
      "source": [
        "tensor = torch.rand(3, 4)\n",
        "\n",
        "print(f\"Shape of tensor: {tensor.shape}\")\n",
        "print(f\"Datatype of tensor: {tensor.dtype}\")\n",
        "print(f\"Device tensor is stored on: {tensor.device}\")"
      ]
    },
    {
      "cell_type": "markdown",
      "metadata": {
        "id": "PlOvRHqDbjlo"
      },
      "source": [
        "**1.1.3 Tensor Operations**\n",
        "\n",
        "For a full list of available tensor operations check out the corresponding [PyTorch documentation](https://pytorch.org/docs/stable/torch.html)."
      ]
    },
    {
      "cell_type": "code",
      "execution_count": 69,
      "metadata": {
        "colab": {
          "base_uri": "https://localhost:8080/"
        },
        "id": "YH16yCzYbjlo",
        "outputId": "dde33233-50be-43bf-f205-e2a82de607e9"
      },
      "outputs": [
        {
          "output_type": "stream",
          "name": "stdout",
          "text": [
            "Device tensor is stored on: cuda:0\n"
          ]
        }
      ],
      "source": [
        "# Moving tensor to the GPU if available\n",
        "if torch.cuda.is_available():\n",
        "    tensor = tensor.to('cuda')\n",
        "    print(f\"Device tensor is stored on: {tensor.device}\")"
      ]
    },
    {
      "cell_type": "code",
      "execution_count": 70,
      "metadata": {
        "colab": {
          "base_uri": "https://localhost:8080/"
        },
        "id": "ZLOX6z-Kbjlo",
        "outputId": "8892c211-c9e4-4a05-aff6-2554957f4587"
      },
      "outputs": [
        {
          "output_type": "stream",
          "name": "stdout",
          "text": [
            "Second column replaced with zeros \n",
            " tensor([[1., 0., 1., 1.],\n",
            "        [1., 0., 1., 1.],\n",
            "        [1., 0., 1., 1.],\n",
            "        [1., 0., 1., 1.]]) \n",
            "\n"
          ]
        }
      ],
      "source": [
        "# standard numpy-like indexing and slicing\n",
        "tensor = torch.ones(4, 4)\n",
        "tensor[:,1] = 0\n",
        "print(f\"Second column replaced with zeros \\n {tensor} \\n\")"
      ]
    },
    {
      "cell_type": "markdown",
      "metadata": {
        "id": "cHKdUuEpbjlo"
      },
      "source": [
        "---\n",
        "<span style=\"color:orange\">**EXERCISE**</span>: **Indexing and Slicing**"
      ]
    },
    {
      "cell_type": "code",
      "execution_count": 71,
      "metadata": {
        "colab": {
          "base_uri": "https://localhost:8080/"
        },
        "id": "O9uVk_9Nbjlo",
        "outputId": "90c1f2c2-88b8-4b09-ebab-ec48c5d7edba"
      },
      "outputs": [
        {
          "output_type": "stream",
          "name": "stdout",
          "text": [
            "Extracted submatrix:\n",
            " tensor([[ 5,  6,  7],\n",
            "        [ 9, 10, 11],\n",
            "        [13, 14, 15]])\n",
            "Tensor after replacement:\n",
            " tensor([[ 1,  2,  3,  4],\n",
            "        [ 0,  0,  0,  8],\n",
            "        [ 0,  0,  0, 12],\n",
            "        [ 0,  0,  0, 16]])\n"
          ]
        }
      ],
      "source": [
        "tensor_exercise = torch.tensor([[1, 2, 3, 4],\n",
        "                       [5, 6, 7, 8],\n",
        "                       [9, 10, 11, 12],\n",
        "                       [13, 14, 15, 16]])\n",
        "\n",
        "# Exercise 1: Select the last 3 rows of the first 3 columns and assign them to 'submatrix'\n",
        "submatrix = tensor_exercise[-3:,:3]\n",
        "print(\"Extracted submatrix:\\n\", submatrix)\n",
        "\n",
        "# Exercise 2: Replace the extracted submatrix with a tensor of zeros in the original tensor\n",
        "...\n",
        "tensor_exercise[-3:,:3] = 0\n",
        "print(\"Tensor after replacement:\\n\", tensor_exercise)"
      ]
    },
    {
      "cell_type": "code",
      "execution_count": 72,
      "metadata": {
        "colab": {
          "base_uri": "https://localhost:8080/"
        },
        "id": "HoqA-Suzbjlp",
        "outputId": "1bb8b026-47f3-44c5-988d-ed47af3e2167"
      },
      "outputs": [
        {
          "output_type": "stream",
          "name": "stdout",
          "text": [
            "Concatenated tensor \n",
            " tensor([[1., 0., 1., 1., 1., 0., 1., 1., 1., 0., 1., 1.],\n",
            "        [1., 0., 1., 1., 1., 0., 1., 1., 1., 0., 1., 1.],\n",
            "        [1., 0., 1., 1., 1., 0., 1., 1., 1., 0., 1., 1.],\n",
            "        [1., 0., 1., 1., 1., 0., 1., 1., 1., 0., 1., 1.]]) \n",
            "\n"
          ]
        }
      ],
      "source": [
        "# joining tensors (concatenation or stacking)\n",
        "t1 = torch.cat([tensor, tensor, tensor], dim=1)\n",
        "print(f\"Concatenated tensor \\n {t1} \\n\")"
      ]
    },
    {
      "cell_type": "code",
      "execution_count": 73,
      "metadata": {
        "colab": {
          "base_uri": "https://localhost:8080/"
        },
        "id": "SikUO7RKbjlp",
        "outputId": "577c8cb5-b2b3-4a26-d02b-368f8feabf66"
      },
      "outputs": [
        {
          "output_type": "stream",
          "name": "stdout",
          "text": [
            "tensor.mul(tensor) \n",
            " tensor([[1., 0., 1., 1.],\n",
            "        [1., 0., 1., 1.],\n",
            "        [1., 0., 1., 1.],\n",
            "        [1., 0., 1., 1.]]) \n",
            "\n",
            "tensor * tensor \n",
            " tensor([[1., 0., 1., 1.],\n",
            "        [1., 0., 1., 1.],\n",
            "        [1., 0., 1., 1.],\n",
            "        [1., 0., 1., 1.]])\n",
            "tensor.matmul(tensor.T) \n",
            " tensor([[3., 3., 3., 3.],\n",
            "        [3., 3., 3., 3.],\n",
            "        [3., 3., 3., 3.],\n",
            "        [3., 3., 3., 3.]]) \n",
            "\n",
            "tensor @ tensor.T \n",
            " tensor([[3., 3., 3., 3.],\n",
            "        [3., 3., 3., 3.],\n",
            "        [3., 3., 3., 3.],\n",
            "        [3., 3., 3., 3.]])\n"
          ]
        }
      ],
      "source": [
        "# multiplying tensors\n",
        "# element-wise product\n",
        "print(f\"tensor.mul(tensor) \\n {tensor.mul(tensor)} \\n\")\n",
        "# Alternative syntax:\n",
        "print(f\"tensor * tensor \\n {tensor * tensor}\")\n",
        "\n",
        "# matrix multiplication\n",
        "print(f\"tensor.matmul(tensor.T) \\n {tensor.matmul(tensor.T)} \\n\")\n",
        "# Alternative syntax:\n",
        "print(f\"tensor @ tensor.T \\n {tensor @ tensor.T}\")"
      ]
    },
    {
      "cell_type": "code",
      "execution_count": 74,
      "metadata": {
        "colab": {
          "base_uri": "https://localhost:8080/"
        },
        "id": "FJwfOYyobjlp",
        "outputId": "47a7d3f5-c493-4336-f424-11aa7ba78c41"
      },
      "outputs": [
        {
          "output_type": "stream",
          "name": "stdout",
          "text": [
            "Tensor before inplace addition \n",
            " tensor([[1., 0., 1., 1.],\n",
            "        [1., 0., 1., 1.],\n",
            "        [1., 0., 1., 1.],\n",
            "        [1., 0., 1., 1.]]) \n",
            "\n",
            "Tensor after inplace addition \n",
            " tensor([[6., 5., 6., 6.],\n",
            "        [6., 5., 6., 6.],\n",
            "        [6., 5., 6., 6.],\n",
            "        [6., 5., 6., 6.]]) \n",
            "\n"
          ]
        }
      ],
      "source": [
        "# inplace operations have a trailing underscore\n",
        "print(f\"Tensor before inplace addition \\n {tensor} \\n\")\n",
        "tensor.add_(5)\n",
        "print(f\"Tensor after inplace addition \\n {tensor} \\n\")"
      ]
    },
    {
      "cell_type": "markdown",
      "metadata": {
        "id": "ZrkzY12_bjlp"
      },
      "source": [
        "---\n",
        "<span style=\"color:orange\">**EXERCISE**</span>: **Element-wise logarithm, multiplication and calculation of the mean**"
      ]
    },
    {
      "cell_type": "code",
      "execution_count": 75,
      "metadata": {
        "colab": {
          "base_uri": "https://localhost:8080/"
        },
        "id": "8zX2fo5Ibjlp",
        "outputId": "4845d530-4b02-40c1-ef63-0d415fcfb141"
      },
      "outputs": [
        {
          "output_type": "stream",
          "name": "stdout",
          "text": [
            "tensor([0.0000, 1.3863, 3.2958, 5.5452])\n",
            "tensor(2.5568)\n"
          ]
        }
      ],
      "source": [
        "tensor = torch.tensor([1.0, 2.0, 3.0, 4.0])\n",
        "\n",
        "# Exercise 1: Calculate the element-wise natural logarithm and multiply the result with the tensor itself\n",
        "log_tensor = tensor.log() * tensor\n",
        "print(log_tensor)\n",
        "\n",
        "# Exercise 2: Calculate the mean of the resulting tensor\n",
        "mean_log = log_tensor.mean()\n",
        "print(mean_log)"
      ]
    },
    {
      "cell_type": "markdown",
      "metadata": {
        "id": "VmvKwJBzbjlp"
      },
      "source": [
        "Note: In-place operations can be problematic when computing derivatives because of a loss of history."
      ]
    },
    {
      "cell_type": "markdown",
      "metadata": {
        "id": "IJ-Mk5znbjlq"
      },
      "source": [
        "**1.1.4 Bridge with NumPy**\n",
        "\n",
        "Tensors on the CPU and NumPy arrays can share their underlying memory locations, and a change to one will cause the other to change."
      ]
    },
    {
      "cell_type": "code",
      "execution_count": 76,
      "metadata": {
        "colab": {
          "base_uri": "https://localhost:8080/"
        },
        "id": "h64qHuQybjlq",
        "outputId": "8894d435-03ad-49f5-b2a9-88574cad4c5d"
      },
      "outputs": [
        {
          "output_type": "stream",
          "name": "stdout",
          "text": [
            "t: tensor([1., 1., 1., 1., 1.])\n",
            "n: [1. 1. 1. 1. 1.]\n"
          ]
        }
      ],
      "source": [
        "t = torch.ones(5)\n",
        "print(f\"t: {t}\")\n",
        "# tensor to NumPy array\n",
        "n = t.numpy()\n",
        "print(f\"n: {n}\")"
      ]
    },
    {
      "cell_type": "code",
      "execution_count": 77,
      "metadata": {
        "colab": {
          "base_uri": "https://localhost:8080/"
        },
        "id": "rpNx0NV0bjlq",
        "outputId": "133fdde8-2ec4-422d-bb02-ab5bb6395053"
      },
      "outputs": [
        {
          "output_type": "stream",
          "name": "stdout",
          "text": [
            "t: tensor([2., 2., 2., 2., 2.])\n",
            "n: [2. 2. 2. 2. 2.]\n"
          ]
        }
      ],
      "source": [
        "t.add_(1)\n",
        "# both arrays are modified\n",
        "print(f\"t: {t}\")\n",
        "print(f\"n: {n}\")"
      ]
    },
    {
      "cell_type": "code",
      "execution_count": 78,
      "metadata": {
        "id": "UyiFI7Ppbjlq"
      },
      "outputs": [],
      "source": [
        "n = np.ones(5)\n",
        "# NumPy array to tensor\n",
        "t = torch.from_numpy(n)"
      ]
    },
    {
      "cell_type": "code",
      "execution_count": 79,
      "metadata": {
        "colab": {
          "base_uri": "https://localhost:8080/"
        },
        "id": "LJoryfEEbjlq",
        "outputId": "58663477-64f1-463f-c2dd-c5dda8426913"
      },
      "outputs": [
        {
          "output_type": "stream",
          "name": "stdout",
          "text": [
            "t: tensor([2., 2., 2., 2., 2.], dtype=torch.float64)\n",
            "n: [2. 2. 2. 2. 2.]\n"
          ]
        }
      ],
      "source": [
        "np.add(n, 1, out=n)\n",
        "# both arrays are modified\n",
        "print(f\"t: {t}\")\n",
        "print(f\"n: {n}\")"
      ]
    },
    {
      "cell_type": "markdown",
      "metadata": {
        "id": "pweJRrjLbjlq"
      },
      "source": [
        "### 1.2 Introduction to torch.autograd\n",
        "\n",
        "``torch.autograd`` is PyTorch's engine for automatic differentiation. It is essential for the training of neural networks.\n",
        "\n",
        "**1.2.1 Differentiation in Autograd**\n",
        "\n",
        "The argument ``required_grad=True`` signals to ``autograd`` that every operation on those tensors should be tracked. This allows ``autograd`` to collect gradients."
      ]
    },
    {
      "cell_type": "code",
      "execution_count": 80,
      "metadata": {
        "id": "FkY6lqJ1bjlq"
      },
      "outputs": [],
      "source": [
        "a = torch.tensor([2., 3.], requires_grad=True)\n",
        "b = torch.tensor([6., 4.], requires_grad=True)\n",
        "Q = 3*a**3 - b**2"
      ]
    },
    {
      "cell_type": "markdown",
      "metadata": {
        "id": "mN3hQbD_bjlq"
      },
      "source": [
        "If ``a`` and ``b`` are parameters of a neural networks the error function ``Q`` could looks like this:\n",
        "\n",
        "\\begin{align}Q = 3a^3 - b^2\\end{align}\n",
        "\n",
        "For the training of the neural network we need to calculate the gradients with respect to the parameters:\n",
        "\n",
        "\\begin{align}\\frac{\\partial Q}{\\partial a} = 9a^2\\end{align}\n",
        "\n",
        "\\begin{align}\\frac{\\partial Q}{\\partial b} = -2b\\end{align}\n",
        "\n",
        "With ``autograd`` you can calculate those gradients by calling ``.backward()`` on Q. The ``gradient`` argument is used here to specify how much the tensors ``a`` and ``b`` should influence the gradient calculation of ``Q``. By providing ``external_grad`` as the gradient argument, you ensure that both ``a`` and ``b`` are treated as if they contribute equally to the gradient of ``Q`` (both having a weight of 1.0)."
      ]
    },
    {
      "cell_type": "code",
      "execution_count": 81,
      "metadata": {
        "colab": {
          "base_uri": "https://localhost:8080/"
        },
        "id": "YBDJaUWzbjlq",
        "outputId": "1924bc40-39f6-4f74-b59d-742967a6c620"
      },
      "outputs": [
        {
          "output_type": "stream",
          "name": "stdout",
          "text": [
            "tensor([True, True])\n",
            "tensor([True, True])\n"
          ]
        }
      ],
      "source": [
        "external_grad = torch.tensor([1., 1.])\n",
        "Q.backward(gradient=external_grad)\n",
        "\n",
        "# check if collected gradients are correct\n",
        "print(9*a**2 == a.grad)\n",
        "print(-2*b == b.grad)"
      ]
    },
    {
      "cell_type": "markdown",
      "metadata": {
        "id": "733d8et1bjlq"
      },
      "source": [
        "---\n",
        "<span style=\"color:orange\">**EXERCISE**</span>: **torch.autograd**"
      ]
    },
    {
      "cell_type": "code",
      "execution_count": 82,
      "metadata": {
        "colab": {
          "base_uri": "https://localhost:8080/"
        },
        "id": "gaQlRn8Wbjlq",
        "outputId": "a9133b35-84ee-4d3b-dc64-0d5809d4726b"
      },
      "outputs": [
        {
          "output_type": "stream",
          "name": "stdout",
          "text": [
            "Gradients of x: tensor([2., 3.])\n"
          ]
        }
      ],
      "source": [
        "x = torch.tensor([2.0, 3.0], requires_grad=True)\n",
        "y = 2 * x[0] + 3 * x[1]\n",
        "\n",
        "# Exercise 1: Calculate gradients\n",
        "...\n",
        "y.backward()\n",
        "\n",
        "# Exercise 2: Print gradients of 'x'\n",
        "print(\"Gradients of x:\", x.grad)"
      ]
    },
    {
      "cell_type": "markdown",
      "metadata": {
        "id": "a3ju52u6bjlr"
      },
      "source": [
        "**1.2.2 Computational Graph**\n",
        "\n",
        "``autograd`` functions by maintaining a record of both data (tensors) and executed operations in a directed acyclic graph (DAG) composed of Function objects. Within this graph structure, the input tensors serve as the starting point (leaves), and the output tensors act as the endpoints (roots). By traversing this graph in a reverse manner, one can automatically compute gradients using the chain rule.\n",
        "\n",
        "- **Forward pass**: ``autograd`` performs operations to compute the resulting tensor and maintains the operation's gradient function in the DAG.\n",
        "\n",
        "- **Backward pass**: ``autograd`` (triggered by calling ``.backward()`` on the DAG root) computes the gradients from each ``.grad_fn``, accumulates them in the corresponding tensor's ``.grad`` attribute, and applies the chain rule to propagate gradients to the leaf tensors.\n",
        "\n",
        "``autograd`` tracks operations for tensors with ``requires_grad=True``, while setting ``requires_grad=False`` excludes them; if any input tensor has ``requires_grad=True``, the output tensor will also require gradients.\n",
        "\n",
        "Note: In PyTorch, DAGs (Directed Acyclic Graphs) are dynamic, and it's important to know that a new graph is built from scratch after each ``.backward()`` call. This flexibility enables the use of control flow statements and the ability to modify the model's shape, size, and operations in each iteration as required.\n"
      ]
    },
    {
      "cell_type": "markdown",
      "metadata": {
        "id": "NgZQTxAgbjlr"
      },
      "source": [
        "---\n",
        "<span style=\"color:orange\">**EXERCISE**</span>: **DAG**\\\n",
        "Think about the answers before executing the following code. Give an explanation.\n"
      ]
    },
    {
      "cell_type": "code",
      "execution_count": 83,
      "metadata": {
        "colab": {
          "base_uri": "https://localhost:8080/"
        },
        "id": "eBpQtS_Cbjlr",
        "outputId": "02edb40a-2b8d-43f8-b656-a9611a90e7a0"
      },
      "outputs": [
        {
          "output_type": "stream",
          "name": "stdout",
          "text": [
            "Does `a` require gradients?: False\n",
            "Does `b` require gradients?: True\n"
          ]
        }
      ],
      "source": [
        "x = torch.rand(5, 5)\n",
        "y = torch.rand(5, 5)\n",
        "z = torch.rand((5, 5), requires_grad=True)\n",
        "\n",
        "a = x + y\n",
        "print(f\"Does `a` require gradients?: {a.requires_grad}\")\n",
        "b = x + z\n",
        "print(f\"Does `b` require gradients?: {b.requires_grad}\")"
      ]
    },
    {
      "cell_type": "markdown",
      "metadata": {
        "id": "BrY7DSp6bjlr"
      },
      "source": [
        "**Your answers:** ... a will not require gradients as requires_grad is not set to true for both x and y while b will require gradients as z has requires_grad set to true hence it needs it for output"
      ]
    },
    {
      "cell_type": "markdown",
      "metadata": {
        "id": "B_cNzfu7bjlr"
      },
      "source": [
        "### 1.3 Neural Networks with PyTorch\n",
        "\n",
        "The ``torch.nn`` package can be used to construct neural networks. ``nn.Module``s contain layers, and a method ``forward(input)`` that returns the ``output``.\n",
        "\n",
        "Typical training procedure for a neural network:\n",
        "1. Define neural network with some learnable parameters (weights)\n",
        "2. Iterate over dataset of inputs\n",
        "3. Process input through network\n",
        "4. Compute the loss (how wrong is the output)\n",
        "5. Backpropagate to calculate the gradient for each of the network's weights\n",
        "6. Update the weights of the network"
      ]
    },
    {
      "cell_type": "markdown",
      "metadata": {
        "id": "iT_w74QFbjlr"
      },
      "source": [
        "**1.3.1 Define the network**\n",
        "\n",
        "Define the ``forward`` function. The ``backward`` function is is automatically defined."
      ]
    },
    {
      "cell_type": "code",
      "execution_count": 84,
      "metadata": {
        "colab": {
          "base_uri": "https://localhost:8080/"
        },
        "id": "AO2oeaa0bjlr",
        "outputId": "a06126b7-e40c-4e20-86fd-551126a66e1b"
      },
      "outputs": [
        {
          "output_type": "stream",
          "name": "stdout",
          "text": [
            "Net(\n",
            "  (conv1): Conv2d(1, 6, kernel_size=(5, 5), stride=(1, 1))\n",
            "  (conv2): Conv2d(6, 16, kernel_size=(5, 5), stride=(1, 1))\n",
            "  (fc1): Linear(in_features=400, out_features=120, bias=True)\n",
            "  (fc2): Linear(in_features=120, out_features=84, bias=True)\n",
            "  (fc3): Linear(in_features=84, out_features=10, bias=True)\n",
            ")\n",
            "Number of learnable parameters: 61706 \n",
            "\n",
            "torch.Size([6, 1, 5, 5])\n"
          ]
        }
      ],
      "source": [
        "import torch\n",
        "import torch.nn as nn\n",
        "import torch.nn.functional as F\n",
        "\n",
        "\n",
        "class Net(nn.Module):\n",
        "    def __init__(self):\n",
        "        super(Net, self).__init__()\n",
        "        # 1 input image channel, 6 output channels, 5x5 square convolution\n",
        "        # kernel\n",
        "        self.conv1 = nn.Conv2d(1, 6, 5)\n",
        "        self.conv2 = nn.Conv2d(6, 16, 5)\n",
        "        # an affine operation: y = Wx + b\n",
        "        self.fc1 = nn.Linear(16 * 5 * 5, 120)  # 5*5 from image dimension\n",
        "        self.fc2 = nn.Linear(120, 84)\n",
        "        self.fc3 = nn.Linear(84, 10)\n",
        "\n",
        "    def forward(self, x):\n",
        "        # Max pooling over a (2, 2) window\n",
        "        x = F.max_pool2d(F.relu(self.conv1(x)), (2, 2))\n",
        "        # If the size is a square, you can specify with a single number\n",
        "        x = F.max_pool2d(F.relu(self.conv2(x)), 2)\n",
        "        x = torch.flatten(x, 1) # flatten all dimensions except the batch dimension\n",
        "        x = F.relu(self.fc1(x))\n",
        "        x = F.relu(self.fc2(x))\n",
        "        x = self.fc3(x)\n",
        "        return x\n",
        "\n",
        "\n",
        "net = Net()\n",
        "print(net)\n",
        "\n",
        "# learnable parameters of the model\n",
        "params = list(net.parameters())\n",
        "n_params = np.sum([torch.numel(p) for p in params])\n",
        "print(f\"Number of learnable parameters: {n_params} \\n\")\n",
        "print(params[0].shape)  # conv1's .weight"
      ]
    },
    {
      "cell_type": "code",
      "execution_count": 85,
      "metadata": {
        "colab": {
          "base_uri": "https://localhost:8080/"
        },
        "id": "vvWqFUZtbjly",
        "outputId": "fc8a4f63-5029-408f-fefc-798570e45575"
      },
      "outputs": [
        {
          "output_type": "stream",
          "name": "stdout",
          "text": [
            "tensor([[ 0.0491,  0.0134,  0.0855, -0.1117, -0.0362, -0.1855,  0.0096,  0.1366,\n",
            "          0.1288, -0.0089]], grad_fn=<AddmmBackward0>)\n"
          ]
        }
      ],
      "source": [
        "# random input\n",
        "input = torch.randn(1, 1, 32, 32)\n",
        "out = net(input)\n",
        "print(out)"
      ]
    },
    {
      "cell_type": "code",
      "execution_count": 86,
      "metadata": {
        "id": "bquXZgzGbjly"
      },
      "outputs": [],
      "source": [
        "# zero gradient buffers of all parameters and backprops with random gradients\n",
        "net.zero_grad()\n",
        "out.backward(torch.randn(1, 10))"
      ]
    },
    {
      "cell_type": "markdown",
      "metadata": {
        "id": "-MNjsKaqbjly"
      },
      "source": [
        "**1.3.2 Loss Function**\n",
        "\n",
        "The loss function computes a value that estimates how far away the output is from the target. For the full list of available loss functions check out the [PyTorch documentation](https://pytorch.org/docs/stable/nn.html#loss-functions).\n",
        "\n",
        "Example: ``MSELoss`` (mean squared error)\n"
      ]
    },
    {
      "cell_type": "code",
      "execution_count": 87,
      "metadata": {
        "colab": {
          "base_uri": "https://localhost:8080/"
        },
        "id": "tdpaH_tMbjly",
        "outputId": "365fafb8-5287-4336-d799-70f12487c43f"
      },
      "outputs": [
        {
          "output_type": "stream",
          "name": "stdout",
          "text": [
            "tensor(1.3132, grad_fn=<MseLossBackward0>)\n"
          ]
        }
      ],
      "source": [
        "output = net(input)\n",
        "target = torch.randn(10)  # a dummy target, for example\n",
        "target = target.view(1, -1)  # make it the same shape as output\n",
        "criterion = nn.MSELoss()\n",
        "\n",
        "loss = criterion(output, target)\n",
        "print(loss)"
      ]
    },
    {
      "cell_type": "markdown",
      "metadata": {
        "id": "ODjni3s5bjly"
      },
      "source": [
        "**1.3.3 Backprop**\n",
        "\n",
        "To initiate error backpropagation, use ``loss.backward()``, but make sure to clear existing gradients; otherwise, the new gradients will accumulate onto the existing ones. This step is crucial for accurate gradient calculations.\n"
      ]
    },
    {
      "cell_type": "code",
      "execution_count": 88,
      "metadata": {
        "colab": {
          "base_uri": "https://localhost:8080/"
        },
        "id": "-FmOE-_0bjly",
        "outputId": "71a24521-b68d-4c8a-828e-047de6148726"
      },
      "outputs": [
        {
          "output_type": "stream",
          "name": "stdout",
          "text": [
            "conv1.bias.grad before backward\n",
            "None\n",
            "conv1.bias.grad after backward\n",
            "tensor([-3.3527e-03,  3.8663e-03,  5.5054e-04, -7.2953e-03,  1.6631e-03,\n",
            "        -8.8409e-05])\n"
          ]
        }
      ],
      "source": [
        "net.zero_grad()     # zeroes the gradient buffers of all parameters\n",
        "\n",
        "print(\"conv1.bias.grad before backward\")\n",
        "print(net.conv1.bias.grad)\n",
        "\n",
        "loss.backward()\n",
        "\n",
        "print(\"conv1.bias.grad after backward\")\n",
        "print(net.conv1.bias.grad)"
      ]
    },
    {
      "cell_type": "markdown",
      "metadata": {
        "id": "88TemW0xbjly"
      },
      "source": [
        "**1.3.4 Update the weights**\n",
        "\n",
        "A simple update rule is the Stochastic Gradient Descent (SGD):\n",
        "\n",
        "*weight = weight - learning_rate * gradient*\n",
        "\n",
        "The ``torch.optim`` package implements different update rules such as SGB, Nesterov-SGD, Adam, RMSProp, etc."
      ]
    },
    {
      "cell_type": "code",
      "execution_count": 89,
      "metadata": {
        "id": "Ub4kJYv2bjly"
      },
      "outputs": [],
      "source": [
        "import torch.optim as optim\n",
        "\n",
        "# create your optimizer\n",
        "optimizer = optim.SGD(net.parameters(), lr=0.01)\n",
        "\n",
        "# in your training loop:\n",
        "optimizer.zero_grad()   # zero the gradient buffers\n",
        "output = net(input)\n",
        "loss = criterion(output, target)\n",
        "loss.backward()\n",
        "optimizer.step()    # Does the update"
      ]
    },
    {
      "cell_type": "markdown",
      "metadata": {
        "id": "23-WvKWFbjly"
      },
      "source": [
        "---\n",
        "<span style=\"color:orange\">**EXERCISE**</span>: **Neural Networks Recap**\n",
        "1. What is the purpose of the forward method in a PyTorch neural network model?\n",
        "2. How do you define a convolutional layer in PyTorch, and what does the nn.Conv2d module do?\n",
        "3. In the provided code, how many learnable parameters does the neural network model Net have, and how can you access them?\n",
        "4. Explain what happens when you call net.zero_grad() and why it is important.\n",
        "5. What does the optimizer.step() method do, and when is it typically called in the training loop?"
      ]
    },
    {
      "cell_type": "markdown",
      "metadata": {
        "id": "9yNAma4jbjly"
      },
      "source": [
        "**Your answers:** ..\n",
        "1. The forward() defines the forward pass of a NN. It produces output by taking the input data and passing it through the network of layers. This method is executed whenever the model is called. It performs a convolution operation on a 2D matrix.\n",
        "2. In PyTroch torch.nn.Conv2d is used to define a convolution layer. It takes 5 main arguments namely in_channels, out_channels, kernel_size, stride, padding.\n",
        "3. 61706 learnable parameters. To access them we use torch.numel(p), where p is the params and iterator and sum over them.\n",
        "4. When we train a NN, we use backpropagation to compute the gradients, the net.zero_grad() method is used to clear out the gradients of all paraments that the optimizer is tracking.\n",
        "5. optimizer.step() performs parameter update based on the current gradient that is stored and the update rule."
      ]
    },
    {
      "cell_type": "markdown",
      "metadata": {
        "id": "Z3yRaDvvbjly"
      },
      "source": [
        "---\n",
        "<span style=\"color:orange\">**EXERCISE**</span>: **Custom Layer**\\\n",
        "Create  a custom neural network layer called CustomLayer that inherits from nn.Module. The layer should take an input tensor and compute the element-wise square of the input tensor.\n",
        "1. Define the CustomLayer class with an init and a forward method that performs the specified operation.\n",
        "2. Instantiate the CustomLayer.\n",
        "3. Generate a random input tensor with dimensions (1, 3, 4, 4).\n",
        "4. Apply the CustomLayer to the input tensor to calculate the element-wise square.\n",
        "5. Print the input tensor and the resulting output tensor."
      ]
    },
    {
      "cell_type": "code",
      "execution_count": 90,
      "metadata": {
        "colab": {
          "base_uri": "https://localhost:8080/"
        },
        "id": "kTVSr8mpbjlz",
        "outputId": "36f8ed5f-556b-41dd-f940-a1aa32b8d6a1"
      },
      "outputs": [
        {
          "output_type": "stream",
          "name": "stdout",
          "text": [
            "Input Tensor: tensor([[[[-1.3632, -0.1961,  2.0922,  0.0996],\n",
            "          [ 0.4491, -0.1238,  1.7268,  0.4601],\n",
            "          [ 1.6462, -0.2523, -1.3312, -0.4554],\n",
            "          [-0.1975,  0.2891, -1.2168,  0.2608]],\n",
            "\n",
            "         [[-0.7328, -0.1955, -0.6745,  1.4452],\n",
            "          [ 2.0968,  1.0742, -1.1201, -0.5653],\n",
            "          [ 0.6549, -0.8602,  1.5454, -1.7997],\n",
            "          [ 0.9602,  2.3287,  0.0417, -1.1176]],\n",
            "\n",
            "         [[-0.5061,  0.5533,  0.8314, -0.3630],\n",
            "          [ 1.9141,  0.2615,  1.6369, -3.7084],\n",
            "          [-1.4348, -0.0406,  0.6943,  1.0540],\n",
            "          [-2.7073,  0.7033, -1.4167, -0.1680]]]])\n",
            "\n",
            "Output Tensor (Element-wise Square): tensor([[[[1.8582e+00, 3.8436e-02, 4.3773e+00, 9.9195e-03],\n",
            "          [2.0173e-01, 1.5317e-02, 2.9818e+00, 2.1165e-01],\n",
            "          [2.7100e+00, 6.3649e-02, 1.7722e+00, 2.0735e-01],\n",
            "          [3.8988e-02, 8.3602e-02, 1.4805e+00, 6.8029e-02]],\n",
            "\n",
            "         [[5.3704e-01, 3.8231e-02, 4.5493e-01, 2.0886e+00],\n",
            "          [4.3964e+00, 1.1540e+00, 1.2547e+00, 3.1956e-01],\n",
            "          [4.2887e-01, 7.3995e-01, 2.3883e+00, 3.2388e+00],\n",
            "          [9.2207e-01, 5.4226e+00, 1.7403e-03, 1.2490e+00]],\n",
            "\n",
            "         [[2.5613e-01, 3.0610e-01, 6.9124e-01, 1.3180e-01],\n",
            "          [3.6640e+00, 6.8387e-02, 2.6794e+00, 1.3753e+01],\n",
            "          [2.0586e+00, 1.6473e-03, 4.8202e-01, 1.1109e+00],\n",
            "          [7.3292e+00, 4.9461e-01, 2.0070e+00, 2.8221e-02]]]])\n"
          ]
        }
      ],
      "source": [
        "import torch\n",
        "import torch.nn as nn\n",
        "\n",
        "# 1. Define the CustomLayer class that performs and outputs the elementwise square function on the inputs\n",
        "class CustomLayer(nn.Module):\n",
        "        def __init__(self):\n",
        "            super(CustomLayer, self).__init__()\n",
        "\n",
        "        def forward(self, x):\n",
        "             return x ** 2\n",
        "\n",
        "# 2. Instantiate the CustomLayer\n",
        "\n",
        "net = CustomLayer()\n",
        "\n",
        "# 3. Generate a random input tensor\n",
        "input = torch.randn(1,3,4,4)\n",
        "\n",
        "# 4. Apply the CustomLayer to the input tensor\n",
        "output = net(input)\n",
        "# 5. Print the input tensor and the resulting output tensor\n",
        "print(\"Input Tensor:\", input)\n",
        "# print(input_tensor)\n",
        "print(\"\\nOutput Tensor (Element-wise Square):\", output)\n",
        "# print(output_tensor)\n"
      ]
    },
    {
      "cell_type": "markdown",
      "metadata": {
        "id": "810ZCimNbjlz"
      },
      "source": [
        "## 2 Behavior Cloning"
      ]
    },
    {
      "cell_type": "markdown",
      "metadata": {
        "id": "3KSr1a6Fbjlz"
      },
      "source": [
        "As the name implies, Behavior Cloning is a machine learning technique where an **agent** learns to mimic the behavior of an **expert**. Hence, we (the agent) aim to clone the behavior of another agent which already peforms well on the task at hand. For a better intuition, we recommend this [Introduction into Behavior Cloning](https://www.youtube.com/watch?v=GIxDtuaC3To). Our task is the [MinAtar Breakout](https://github.com/kenjyoung/MinAtar), a game where a player controls a paddle to bounce a ball and break bricks.\n",
        "\n",
        "Therefore, we provide expert behavior in form of observation-acion pairs retrived by a well-trained policy. Your exercise will be to implement and train a simple neural network in PyTorch, that is able to aimitate the behavior of the expert and perform well on the task.\n",
        "\n",
        "We do the following steps:\n",
        "1. Load the Minatar breakout datasets\n",
        "2. Define a Convolutional Neural Network (CNN)\n",
        "3. Define a loss function\n",
        "4. Train the network on training data\n",
        "5. Test the network on test data\n",
        "\n",
        "\n",
        "<img src=\"breakout.gif\" alt=\"MinAtar\" width=\"20%\"/>\n",
        "\n",
        "_Agent using random actions to play MinAtar Breakout_  \n",
        "\n",
        "\n"
      ]
    },
    {
      "cell_type": "markdown",
      "metadata": {
        "id": "Mpaq0p6pbjlz"
      },
      "source": [
        "**2.1 Loading data**\n",
        "\n",
        "When working with image, text, audio, or video data, you can use standard Python packages to load the data into a NumPy array, which can then be transformed into a ``torch.*Tensor``. However, for large datasets, computing gradients for all data points simultaneously isn't feasible. Therefore, we adopt a technique called **batching**, where the neural network is fed chunks of our data at a time. PyTorch offers the DataLoader class for efficient management of batching and data loading. By providing the ``DataLoader`` with the data and batch size, we obtain an iterable object that can be used for training or testing. It's a good practice to shuffle the data inside the loader to reduce biases during training."
      ]
    },
    {
      "cell_type": "code",
      "execution_count": 91,
      "metadata": {
        "colab": {
          "base_uri": "https://localhost:8080/"
        },
        "id": "VQXXwENzbjlz",
        "outputId": "f2779c42-93d3-432d-a0f2-ccc3366a63a5"
      },
      "outputs": [
        {
          "output_type": "stream",
          "name": "stdout",
          "text": [
            "Size of dataset: 100000\n"
          ]
        }
      ],
      "source": [
        "from torch.utils.data import DataLoader\n",
        "\n",
        "# Load observations and actions\n",
        "with open('dataset.npy', 'rb') as f:\n",
        "    obss = np.load(f)\n",
        "    acts = np.load(f)\n",
        "\n",
        "# Convert to torch tensors\n",
        "obss = torch.from_numpy(obss).float() # PyTorch requires float or double dtype, not bool\n",
        "acts = torch.from_numpy(acts)\n",
        "\n",
        "# Create dataset and dataloaders, which we can iterate over\n",
        "dataset = []\n",
        "for i in range(len(obss)):\n",
        "    dataset.append((obss[i], acts[i]))\n",
        "\n",
        "# Do a 80% / 20% split between train and test set\n",
        "train_loader = DataLoader(dataset[:int(4*len(obss)/5)], batch_size=128, shuffle=True)\n",
        "test_loader = DataLoader(dataset[int(4*len(obss)/5):], batch_size=128, shuffle=True)\n",
        "\n",
        "print(f\"Size of dataset: {len(dataset)}\")"
      ]
    },
    {
      "cell_type": "markdown",
      "metadata": {
        "id": "UDJyt93Cbjlz"
      },
      "source": [
        "Now, we take a look at the samples of the dataset. Each sample consists of an observation paired with the corresponding action our agent should take. The observation is an image capturing the current game frame encoded as a NumPy array. As for the actions, they are represented by integers, where 0 describes \"DO NOTHING,\" 1 = \"MOVE LEFT,\" and 2 = \"MOVE RIGHT\"."
      ]
    },
    {
      "cell_type": "code",
      "execution_count": 92,
      "metadata": {
        "colab": {
          "base_uri": "https://localhost:8080/",
          "height": 504
        },
        "id": "9vj9_ZiXbjlz",
        "outputId": "0e66d2c3-b593-4de1-bf9b-783de46713e0"
      },
      "outputs": [
        {
          "output_type": "stream",
          "name": "stdout",
          "text": [
            "The observation is represented as Tensor with shape of torch.Size([10, 10, 4]). The first and second dimensions correspond to the height and width, while the third dimension describes the different game objects.\n",
            "Additionally, the data type (dtype) of the observation is torch.float32. Each value in the array indicates whether a particular object is present (1.0 = True) or not present (0.0 = False).\n",
            "The current action is 1 = MOVE LEFT\n"
          ]
        },
        {
          "output_type": "display_data",
          "data": {
            "text/plain": [
              "<Figure size 640x480 with 1 Axes>"
            ],
            "image/png": "[encoded data removed]"
          },
          "metadata": {}
        }
      ],
      "source": [
        "import seaborn as sns\n",
        "import matplotlib.pyplot as plt\n",
        "\n",
        "# Get some arbitrary sample\n",
        "obs, act = dataset[10]\n",
        "\n",
        "# Actions and their meaning\n",
        "ACTIONS = {\n",
        "    0: \"DO NOTHING\",\n",
        "    1: \"MOVE LEFT\",\n",
        "    2: \"MOVE RIGHT\",\n",
        "}\n",
        "\n",
        "def to_rgb(obs):\n",
        "    \"\"\" Converts the observation into an rgb image. Taken from MinAtar. \"\"\"\n",
        "    obs = obs.bool().numpy()\n",
        "    n_channels = obs.shape[-1]\n",
        "    cmap = sns.color_palette(\"cubehelix\", n_channels)\n",
        "    cmap.insert(0, (0,0,0))\n",
        "    numerical_state = np.amax(obs * np.reshape(np.arange(n_channels) + 1, (1,1,-1)), 2)\n",
        "    rgb_array = np.stack(cmap)[numerical_state]\n",
        "    return rgb_array\n",
        "\n",
        "print(f\"The observation is represented as {obs.__class__.__name__} with shape of {obs.shape}. The first and second dimensions correspond to the height and width, while the third dimension describes the different game objects.\")\n",
        "print(f\"Additionally, the data type (dtype) of the observation is {obs.dtype}. Each value in the array indicates whether a particular object is present (1.0 = True) or not present (0.0 = False).\")\n",
        "print(f\"The current action is {act} = {ACTIONS[act.item()]}\")\n",
        "\n",
        "# Render observation\n",
        "img = to_rgb(obs)\n",
        "plt.imshow(img)\n",
        "plt.show()"
      ]
    },
    {
      "cell_type": "markdown",
      "metadata": {
        "id": "Fb9EW-Vxbjlz"
      },
      "source": [
        "**2.2 Define Convolutional Neural Network**\n",
        "\n",
        "Here we define our own classifier that takes as input a batch of observations, and ouputs three logits for each observation. These logits can be fed into a softmax function later to obtain probabilities for the actions. However, it is more convenient for the ``CrossEntropyLoss`` used in classifiers to retrieve the raw logits. We want our model to have two convolutional layers followed by two linear layers. Each but the last layer should be followed by a Rectified Linear Unit (ReLU) activation function.\n",
        "\n",
        "Build a neural network, similar as in 1.3. Notice: it has to take as input 4-channel images. Also, we want the convolutional layers to output the same image height and width and therefore use a stride of one. However, because the kernel size is >1, padding around the images is needed. Visualize to yourself how the kernel size is leading to a change of output size and what padding is needed to keep the dimensions constant. See the PyTorch documentation for convolutional layers to get hints for the padding argument.\n",
        "\n",
        "<img src=\"padding.gif\" alt=\"MinAtar\" width=\"50%\"/>\n"
      ]
    },
    {
      "cell_type": "markdown",
      "metadata": {
        "id": "9reizoSFbjlz"
      },
      "source": [
        "---\n",
        "<span style=\"color:orange\">**EXERCISE**</span>: **Defining a CNN**\n",
        "\n",
        "Fill in the gaps in the following code.\n",
        "\n",
        "1. Define the first convolutional layer with 4 input channels (given by the data) and 16 output channels, stride 1, and kernel size 3.\n",
        "    \n",
        "    Tipp: Apply padding, such that the image dimensions stay the same\n",
        "\n",
        "2. Define the second convolutional layer with 32 output channels, stride 1, and kernel size 3.\n",
        "\n",
        "    Tipp: Apply padding, such that the image dimensions stay the same\n",
        "\n",
        "3. Define the first linear layer mapping from the flattened output of convolutional layer 2, to 128 output nodes.\n",
        "\n",
        "    Tipp: How can the input nodes be retrieved by the ouput channels of convolutional layer 2 and the input data shape?\n",
        "\n",
        "4. Define the last linear layer\n",
        "\n",
        "    Tipp: How many output nodes do we need given the action space?\n",
        "\n",
        "5. Define the forward pass function by putting all the layers together\n"
      ]
    },
    {
      "cell_type": "code",
      "execution_count": 93,
      "metadata": {
        "id": "Xohn2jBTbjlz"
      },
      "outputs": [],
      "source": [
        "import torch.nn as nn\n",
        "import torch.nn.functional as F\n",
        "\n",
        "class CNN(nn.Module):\n",
        "    def __init__(self, obs_shape):\n",
        "        # obs_shape is the shape of a single observation -> use this information to define the dimensions of the layers\n",
        "        super(CNN, self).__init__()\n",
        "        #print(obs_shape)\n",
        "        self.conv1 = nn.Conv2d(4, 16, 3, stride = 1, padding = \"same\")\n",
        "        self.conv2 = nn.Conv2d(16, 32, 3, stride = 1, padding = \"same\")\n",
        "\n",
        "        self.fc1 = nn.Linear(obs_shape[0] * obs_shape[1] * 32 , 128) #not sure, check\n",
        "        self.fc2 = nn.Linear(128,len(ACTIONS)) #outputs three logits\n",
        "        #print(len(ACTIONS))\n",
        "        self.relu = nn.ReLU()\n",
        "\n",
        "\n",
        "    def forward(self, x):\n",
        "        x = x.permute(0, 3, 1, 2)\n",
        "\n",
        "        x = self.conv1(x)\n",
        "        x = F.relu(x)\n",
        "\n",
        "        x = self.conv2(x)\n",
        "        x = F.relu(x)\n",
        "\n",
        "        x = torch.flatten(x,1)\n",
        "\n",
        "        x = self.fc1(x)\n",
        "        x = F.relu(x)\n",
        "\n",
        "        out = self.fc2(x)\n",
        "        return out\n",
        "\n",
        "\n",
        "net = CNN(obs_shape=obss.shape[1:])\n",
        "if torch.cuda.is_available():\n",
        "    net.to('cuda')"
      ]
    },
    {
      "cell_type": "markdown",
      "metadata": {
        "id": "eSS-kvnZbjl0"
      },
      "source": [
        "**2.3 Define loss function and optimizer**"
      ]
    },
    {
      "cell_type": "markdown",
      "metadata": {
        "id": "Q1kdtY8Mbjl0"
      },
      "source": [
        "---\n",
        "<span style=\"color:orange\">**EXERCISE**</span>: **Defining a loss function**\\\n",
        "Implement a cross entropy loss function\n",
        "\n",
        "Hint: check out the [PyTorch documentation](https://pytorch.org/docs/stable/nn.html#loss-functions)"
      ]
    },
    {
      "cell_type": "code",
      "execution_count": 94,
      "metadata": {
        "id": "g9SPvu7qbjl0"
      },
      "outputs": [],
      "source": [
        "import torch.optim as optim\n",
        "\n",
        "criterion = nn.CrossEntropyLoss()"
      ]
    },
    {
      "cell_type": "markdown",
      "metadata": {
        "id": "C8HRCVVebjl0"
      },
      "source": [
        "---\n",
        "<span style=\"color:orange\">**EXERCISE**</span>: **Defining an optimizer**\\\n",
        "Implement an adam optimizer and pass the learning rate as argument\n",
        "\n",
        "Hint: check out the [PyTorch documentation](https://pytorch.org/docs/stable/nn.html#loss-functions)"
      ]
    },
    {
      "cell_type": "code",
      "execution_count": 95,
      "metadata": {
        "id": "9qiZK__2bjl0"
      },
      "outputs": [],
      "source": [
        "import torch.optim as optim\n",
        "\n",
        "learning_rate = 0.001\n",
        "optimizer = optim.Adam(net.parameters(), lr=learning_rate)"
      ]
    },
    {
      "cell_type": "markdown",
      "metadata": {
        "id": "w-4ScOBObjl0"
      },
      "source": [
        "**2.4 Train network**"
      ]
    },
    {
      "cell_type": "markdown",
      "metadata": {
        "id": "uWMPIt4Cbjl0"
      },
      "source": [
        "---\n",
        "<span style=\"color:orange\">**EXERCISE**</span>: **Training the CNN**\\\n",
        "Fill in the gaps in the following code."
      ]
    },
    {
      "cell_type": "code",
      "execution_count": 96,
      "metadata": {
        "colab": {
          "base_uri": "https://localhost:8080/"
        },
        "id": "c6QjxWH4bjl0",
        "outputId": "e8d1d49a-2052-4d67-9c71-5f96a37a08dc"
      },
      "outputs": [
        {
          "output_type": "stream",
          "name": "stdout",
          "text": [
            "1 | loss: 0.007133 | accuracy:  0.56\n",
            "2 | loss: 0.005946 | accuracy:  0.66\n",
            "3 | loss: 0.005421 | accuracy:  0.70\n",
            "4 | loss: 0.005165 | accuracy:  0.71\n",
            "5 | loss: 0.004989 | accuracy:  0.72\n",
            "6 | loss: 0.004864 | accuracy:  0.73\n",
            "7 | loss: 0.004778 | accuracy:  0.74\n",
            "8 | loss: 0.004708 | accuracy:  0.74\n",
            "9 | loss: 0.004657 | accuracy:  0.74\n",
            "10 | loss: 0.004608 | accuracy:  0.75\n",
            "11 | loss: 0.004568 | accuracy:  0.75\n",
            "12 | loss: 0.004542 | accuracy:  0.75\n",
            "13 | loss: 0.004503 | accuracy:  0.75\n",
            "14 | loss: 0.004479 | accuracy:  0.75\n",
            "15 | loss: 0.004451 | accuracy:  0.75\n",
            "16 | loss: 0.004425 | accuracy:  0.76\n",
            "17 | loss: 0.004412 | accuracy:  0.76\n",
            "18 | loss: 0.004379 | accuracy:  0.76\n",
            "19 | loss: 0.004374 | accuracy:  0.76\n",
            "20 | loss: 0.004347 | accuracy:  0.76\n",
            "Finished Training\n"
          ]
        }
      ],
      "source": [
        "loss_hist = []\n",
        "acc_hist = []\n",
        "\n",
        "for epoch in range(20):  # loop over the dataset multiple times\n",
        "    total = 0\n",
        "    correct = 0\n",
        "    running_loss = 0.0\n",
        "\n",
        "    for i, data in enumerate(train_loader):\n",
        "        # get the inputs; data is a list of [inputs, labels]\n",
        "        inputs, labels = data\n",
        "        if torch.cuda.is_available():\n",
        "            inputs, labels = inputs.to('cuda'), labels.to('cuda')\n",
        "\n",
        "        # perform the forward pass\n",
        "        outputs = net(inputs)\n",
        "\n",
        "        # calculate the loss ussing the criterion\n",
        "        loss = criterion(outputs,labels)\n",
        "\n",
        "        # zero the parameter gradients\n",
        "        ...\n",
        "        optimizer.zero_grad()\n",
        "\n",
        "        # perform the backward pass to compute gradients\n",
        "        ...\n",
        "        loss.backward()\n",
        "\n",
        "        # update the model's parameters using the optimizer\n",
        "        ...\n",
        "        optimizer.step()\n",
        "\n",
        "        # print statistics\n",
        "        running_loss += loss.item()\n",
        "        _, predicted = torch.max(outputs.data, 1)\n",
        "        total += labels.size(0)\n",
        "        correct += (predicted == labels).sum().item()\n",
        "\n",
        "    print(f'{epoch + 1} | loss: {running_loss / total:.6f} | accuracy:  {correct/total:.2f}')\n",
        "\n",
        "    loss_hist.append(running_loss / total)\n",
        "    acc_hist.append(correct/total)\n",
        "\n",
        "print('Finished Training')\n"
      ]
    },
    {
      "cell_type": "markdown",
      "metadata": {
        "id": "sQ6BEj1_bjl0"
      },
      "source": [
        "---\n",
        "<span style=\"color:orange\">**EXERCISE**</span>: **Plotting the training results**\\\n",
        "Plot the accuracy and loss over training steps. Make sure to give meaningful axes labels. If you are not familiar with ``matplotlib``, see this [quick start guide](https://matplotlib.org/stable/users/explain/quick_start.html#quick-start)."
      ]
    },
    {
      "cell_type": "code",
      "execution_count": 97,
      "metadata": {
        "colab": {
          "base_uri": "https://localhost:8080/",
          "height": 307
        },
        "id": "Hnk6WgaJbjl0",
        "outputId": "b6aa0724-b0f3-4d0d-f652-3e88222c50c5"
      },
      "outputs": [
        {
          "output_type": "display_data",
          "data": {
            "text/plain": [
              "<Figure size 800x300 with 2 Axes>"
            ],
            "image/png": "[encoded data removed]"
          },
          "metadata": {}
        }
      ],
      "source": [
        "fig, axs = plt.subplots(1, 2, figsize=(8,3))\n",
        "\n",
        "# plot accuracy over epochs\n",
        "...\n",
        "#print(axs[0])\n",
        "axs[0].plot(acc_hist)\n",
        "axs[0].set_xlabel('Epoch')\n",
        "axs[0].set_ylabel('Accuracy')\n",
        "axs[1].plot(loss_hist)\n",
        "axs[1].set_xlabel('Epoch')\n",
        "axs[1].set_ylabel('Loss')\n",
        "#axs[0].set_ylabel(\"Accurac\")\n",
        "\n",
        "\n",
        "# plot loss over epochs\n",
        "...\n",
        "\n",
        "\n",
        "\n",
        "plt.tight_layout()\n",
        "plt.show()\n"
      ]
    },
    {
      "cell_type": "markdown",
      "metadata": {
        "id": "rOGztU1Nbjl0"
      },
      "source": [
        "---\n",
        "<span style=\"color:orange\">**EXERCISE**</span>: **Interpreting training results**\n",
        "1. Did the training converge? Why do you think so?\n",
        "2. After how many epochs could we have stopped the training?\n",
        "\n",
        "\n",
        "**Answers**\n",
        "\n",
        "1. Yes it is converging. After around 12 epochs there is no significant improvement in the accuracy and the loss has also stabilized.\n",
        "2. Similarly we can stop after about 12 epochs as there is stability."
      ]
    },
    {
      "cell_type": "markdown",
      "metadata": {
        "id": "2sCAFs9Hbjl0"
      },
      "source": [
        "**2.5 Test network on test data**"
      ]
    },
    {
      "cell_type": "code",
      "execution_count": 98,
      "metadata": {
        "colab": {
          "base_uri": "https://localhost:8080/"
        },
        "id": "T1-qtMn-bjl1",
        "outputId": "7e4631df-ac57-407b-df87-8f83df272291"
      },
      "outputs": [
        {
          "output_type": "stream",
          "name": "stdout",
          "text": [
            "Accuracy of the network on the 10000 test observations: 73 %\n"
          ]
        }
      ],
      "source": [
        "correct = 0\n",
        "total = 0\n",
        "# since we're not training, we don't need to calculate the gradients for our outputs\n",
        "with torch.no_grad():\n",
        "    for data in test_loader:\n",
        "        inputs, labels = data\n",
        "        if torch.cuda.is_available():\n",
        "            inputs, labels = inputs.to('cuda'), labels.to('cuda')\n",
        "        # calculate outputs by running images through the network\n",
        "        outputs = net(inputs)\n",
        "        # the class with the highest energy is what we choose as prediction\n",
        "        _, predicted = torch.max(outputs.data, 1)\n",
        "        total += labels.size(0)\n",
        "        correct += (predicted == labels).sum().item()\n",
        "\n",
        "print(f'Accuracy of the network on the 10000 test observations: {100 * correct // total} %')"
      ]
    },
    {
      "cell_type": "markdown",
      "metadata": {
        "id": "WzUiN74tbjl1"
      },
      "source": [
        "This performance is significantly better than random chance, which would be a 33% accuracy when randomly selecting from 3 classes. It appears that the network has learned something meaningful.\n",
        "\n",
        "Lastly, we want to create a short GIF showing our agent playing the breakout task. You don't need to understand the details of how this function works yet. Notice: It saves each game frame as breakout_minatar.png and removes the file in the end."
      ]
    },
    {
      "cell_type": "code",
      "execution_count": 99,
      "metadata": {
        "colab": {
          "base_uri": "https://localhost:8080/"
        },
        "id": "aNeqCLm-bjl1",
        "outputId": "5af8841d-d7d8-4ffb-c4d4-4bef538350f3"
      },
      "outputs": [
        {
          "output_type": "stream",
          "name": "stderr",
          "text": [
            "<ipython-input-99-66b3ef9dbda5>:34: DeprecationWarning: Starting with ImageIO v3 the behavior of this function will switch to that of iio.v3.imread. To keep the current behavior (and make this warning disappear) use `import imageio.v2 as imageio` or call `imageio.v2.imread` directly.\n",
            "  images.append(imageio.imread('breakout_minatar.png'))\n"
          ]
        }
      ],
      "source": [
        "import os\n",
        "import imageio\n",
        "import gymnasium as gym\n",
        "from matplotlib import colors\n",
        "\n",
        "\n",
        "def create_gif():\n",
        "    \"\"\" Creates a GIF of the agent playing in the current folder. \"\"\"#\n",
        "    # Create environment and reset\n",
        "    env = gym.make('MinAtar/Breakout-v1')\n",
        "    obs, info = env.reset()\n",
        "    images = []\n",
        "\n",
        "    for i in range(1_000):\n",
        "        # Get action\n",
        "        obs = torch.tensor(obs, dtype=torch.float).unsqueeze(0)\n",
        "        if torch.cuda.is_available():\n",
        "            obs = obs.cuda()\n",
        "        act_probs = net(obs)\n",
        "        act = np.argmax(act_probs.detach().cpu().numpy())\n",
        "\n",
        "        # Step the environment\n",
        "        obs, reward, terminated, truncated, info = env.step(act)\n",
        "\n",
        "        # Render as image\n",
        "        n_channels = 4\n",
        "        obs = obs.astype(np.float32)\n",
        "        cmap = sns.color_palette(\"cubehelix\", n_channels)\n",
        "        cmap.insert(0, (0,0,0))\n",
        "        cmap = colors.ListedColormap(cmap)\n",
        "        numerical_state = np.amax(obs * np.reshape(np.arange(n_channels) + 1, (1,1,-1)), 2) + 0.5\n",
        "        numerical_state = numerical_state.repeat(48, axis=0).repeat(48, axis=1)\n",
        "        plt.imsave('breakout_minatar.png', numerical_state, cmap=cmap)\n",
        "        images.append(imageio.imread('breakout_minatar.png'))\n",
        "\n",
        "        if terminated or truncated:\n",
        "            break\n",
        "\n",
        "    # Save GIF\n",
        "    imageio.mimsave('breakout.gif', images, loop=0, fps=20)\n",
        "    os.remove('breakout_minatar.png')\n",
        "    env.close()\n",
        "\n",
        "create_gif()"
      ]
    },
    {
      "cell_type": "markdown",
      "metadata": {
        "id": "A67a8I6Ebjl1"
      },
      "source": [
        "**2.6 Additional questions**\n",
        "\n",
        "So far, the hyperparameters for the training were given. We now want to investigate how different hyperparameters influence the training results. Additionally, there are many techniques and architectures to improve robustness and efficiency of neural network training. It is time for you to explore and find a few more.\n",
        "\n",
        "---\n",
        "<span style=\"color:orange\">**EXERCISE**</span>: **Ablation studies: Effect of hyperparameters**\n",
        "1. Learning rate: Test different learning rates of the Adam Optimizer. What happens if the learaning rate is too large/too small?\n",
        "2. Epochs: Can you think of any drawbacks of training a network for too many epochs? If yes, how can we adjust the training to cope for these drawbacks?\n",
        "3. Number of latent channels: Try different values for the number of latent channels. What happens if you increase/decrease the number of channels? Does an increase of channels increase the paramters of a convolutional layer or linear layer more and why?"
      ]
    },
    {
      "cell_type": "markdown",
      "metadata": {
        "id": "H6JuHKHqbjl1"
      },
      "source": [
        "**Your answers:...**\n",
        "1. If the lr is too large, we will not find the optimal weights and hence there is a chance of divergence,\n",
        "and if the lr is very low then there is slow convergence due to small steps and we may get stuck at the local minima.\n",
        "2. If the number is epochs is high then there is a chance of overfitting and also this requires a higher compution. To cope with these drawbacks we can use methods like early stopping, or some regularizers or reduce the number of epochs.\n",
        "3. Generally if we increase the number of channels the model's performance increases but there is a chance of overfitting whereas if we decrease, it reduces the complexity and makes the model easier to train but there will be a reduction in the performance.\n",
        "Yes increasing the number of channels will increase the parameters in the convolution layer but might not be the same for the linear layer as the parametrs in the convolution layer depends on the input and output channels."
      ]
    },
    {
      "cell_type": "markdown",
      "metadata": {
        "id": "s3AdXbFwbjl1"
      },
      "source": [
        "---\n",
        "<span style=\"color:orange\">**EXERCISE**</span>: **Robustness and efficiency**\n",
        "1. We investigated the effect of layer channels. What other way can you think of to make a neural net more complex/expressive than increasing the channel sizes?\n",
        "2. What is underfitting/overfitting? Explain in a few short sentences.\n",
        "3. Name one technique to prevent underfitting, and one to prevent overfitting."
      ]
    },
    {
      "cell_type": "markdown",
      "metadata": {
        "id": "ulNITh_Jbjl1"
      },
      "source": [
        "**Your answers:...**\n",
        "\n",
        "1. We can make changes to the kernel size or use complex architectures like transformers.\n",
        "2. Underfitting is when the model is too simple and cannot capture the entire data and doesnt learn well resulting in higher train, test and validation loss.\n",
        "Overfitting happens when the model is too complex and the training loss is very low as the model learns the noise and outliers. The training loss is low whereas the validation loss and test loss is high. There is no generalization.\n",
        "3. To prevent underfitting we can increase the model complexity and the stop overfitting we can use dropout."
      ]
    },
    {
      "cell_type": "code",
      "source": [],
      "metadata": {
        "id": "upIvq-2s9D-d"
      },
      "execution_count": null,
      "outputs": []
    }
  ],
  "metadata": {
    "kernelspec": {
      "display_name": "Python 3",
      "name": "python3"
    },
    "language_info": {
      "codemirror_mode": {
        "name": "ipython",
        "version": 3
      },
      "file_extension": ".py",
      "mimetype": "text/x-python",
      "name": "python",
      "nbconvert_exporter": "python",
      "pygments_lexer": "ipython3",
      "version": "3.11.5"
    },
    "colab": {
      "provenance": [],
      "gpuType": "T4"
    },
    "accelerator": "GPU"
  },
  "nbformat": 4,
  "nbformat_minor": 0
}