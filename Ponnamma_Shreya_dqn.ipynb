{
  "cells": [
    {
      "cell_type": "markdown",
      "metadata": {
        "deletable": false,
        "editable": false,
        "nbgrader": {
          "cell_type": "markdown",
          "checksum": "fa9ff6328c5e1d8b49bac25236d32769",
          "grade": false,
          "grade_id": "cell-4ef3965059d37f2e",
          "locked": true,
          "schema_version": 3,
          "solution": false,
          "task": false
        },
        "id": "SX1J7CVRKCWV"
      },
      "source": [
        "# Exercise 3 - DQN\n",
        "Prof. Joschka Bödecker, Julien Brosseit\n",
        "\n",
        "In this exercise we will train our own agent using [Deep Q Networks (DQN)](https://arxiv.org/pdf/1312.5602.pdf) to solve the tasks from [MinAtar](https://github.com/kenjyoung/MinAtar). Last time we looked at tabular Q-learning, which learns Q-values from sampled experience and stores its estimates in a table. For high-dimensional problems, however, tabular methods become impractical, and we use function approximators such as neural networks instead. The DQN is a popular deep reinforcement learning method that does just that. It is based on Q-learning and uses deep neural networks as function approximators.\n",
        "\n",
        "![breakout.gif](attachment:8454bdff-14f3-4470-bfc2-85ebe7448217.gif)\n",
        "\n",
        "_Agent using random actions to play MinAtar Breakout_\n",
        "\n",
        "Exercises are clearly marked as <span style=\"color:orange\">**EXERCISE**</span>. Answer concisely, otherwise points will be deducted!"
      ]
    },
    {
      "cell_type": "markdown",
      "metadata": {
        "deletable": false,
        "editable": false,
        "nbgrader": {
          "cell_type": "markdown",
          "checksum": "f94ae2763a381c7ffc0ae9ba26921a47",
          "grade": false,
          "grade_id": "cell-dcf2e438bf23416e",
          "locked": true,
          "schema_version": 3,
          "solution": false,
          "task": false
        },
        "id": "ZMgFhjlhKCWW"
      },
      "source": [
        "## 0 Setup\n",
        "These are the same packages as in the last exercise:"
      ]
    },
    {
      "cell_type": "code",
      "execution_count": 54,
      "metadata": {
        "deletable": false,
        "editable": false,
        "nbgrader": {
          "cell_type": "code",
          "checksum": "6f62924e27717275982cfd79c7c5394c",
          "grade": false,
          "grade_id": "cell-df50e80428bfd961",
          "locked": true,
          "schema_version": 3,
          "solution": false,
          "task": false
        },
        "colab": {
          "base_uri": "https://localhost:8080/"
        },
        "id": "9wMwLxm6KCWW",
        "outputId": "3d6ba6e6-c0e6-467b-f3d6-25255f0c1f8b"
      },
      "outputs": [
        {
          "output_type": "stream",
          "name": "stdout",
          "text": [
            "Requirement already satisfied: torch in /usr/local/lib/python3.10/dist-packages (2.5.1+cu121)\n",
            "Requirement already satisfied: torchvision in /usr/local/lib/python3.10/dist-packages (0.20.1+cu121)\n",
            "Requirement already satisfied: torchaudio in /usr/local/lib/python3.10/dist-packages (2.5.1+cu121)\n",
            "Requirement already satisfied: filelock in /usr/local/lib/python3.10/dist-packages (from torch) (3.16.1)\n",
            "Requirement already satisfied: typing-extensions>=4.8.0 in /usr/local/lib/python3.10/dist-packages (from torch) (4.12.2)\n",
            "Requirement already satisfied: networkx in /usr/local/lib/python3.10/dist-packages (from torch) (3.4.2)\n",
            "Requirement already satisfied: jinja2 in /usr/local/lib/python3.10/dist-packages (from torch) (3.1.4)\n",
            "Requirement already satisfied: fsspec in /usr/local/lib/python3.10/dist-packages (from torch) (2024.10.0)\n",
            "Requirement already satisfied: sympy==1.13.1 in /usr/local/lib/python3.10/dist-packages (from torch) (1.13.1)\n",
            "Requirement already satisfied: mpmath<1.4,>=1.1.0 in /usr/local/lib/python3.10/dist-packages (from sympy==1.13.1->torch) (1.3.0)\n",
            "Requirement already satisfied: numpy in /usr/local/lib/python3.10/dist-packages (from torchvision) (1.26.4)\n",
            "Requirement already satisfied: pillow!=8.3.*,>=5.3.0 in /usr/local/lib/python3.10/dist-packages (from torchvision) (11.0.0)\n",
            "Requirement already satisfied: MarkupSafe>=2.0 in /usr/local/lib/python3.10/dist-packages (from jinja2->torch) (3.0.2)\n",
            "Requirement already satisfied: gymnasium==0.29.1 in /usr/local/lib/python3.10/dist-packages (0.29.1)\n",
            "Requirement already satisfied: numpy>=1.21.0 in /usr/local/lib/python3.10/dist-packages (from gymnasium==0.29.1) (1.26.4)\n",
            "Requirement already satisfied: cloudpickle>=1.2.0 in /usr/local/lib/python3.10/dist-packages (from gymnasium==0.29.1) (3.1.0)\n",
            "Requirement already satisfied: typing-extensions>=4.3.0 in /usr/local/lib/python3.10/dist-packages (from gymnasium==0.29.1) (4.12.2)\n",
            "Requirement already satisfied: farama-notifications>=0.0.1 in /usr/local/lib/python3.10/dist-packages (from gymnasium==0.29.1) (0.0.4)\n",
            "Requirement already satisfied: minatar==1.0.15 in /usr/local/lib/python3.10/dist-packages (1.0.15)\n",
            "Requirement already satisfied: cycler>=0.10.0 in /usr/local/lib/python3.10/dist-packages (from minatar==1.0.15) (0.12.1)\n",
            "Requirement already satisfied: kiwisolver>=1.0.1 in /usr/local/lib/python3.10/dist-packages (from minatar==1.0.15) (1.4.7)\n",
            "Requirement already satisfied: matplotlib>=3.0.3 in /usr/local/lib/python3.10/dist-packages (from minatar==1.0.15) (3.8.0)\n",
            "Requirement already satisfied: numpy>=1.16.2 in /usr/local/lib/python3.10/dist-packages (from minatar==1.0.15) (1.26.4)\n",
            "Requirement already satisfied: pandas>=0.24.2 in /usr/local/lib/python3.10/dist-packages (from minatar==1.0.15) (2.2.2)\n",
            "Requirement already satisfied: pyparsing>=2.3.1 in /usr/local/lib/python3.10/dist-packages (from minatar==1.0.15) (3.2.0)\n",
            "Requirement already satisfied: python-dateutil>=2.8.0 in /usr/local/lib/python3.10/dist-packages (from minatar==1.0.15) (2.8.2)\n",
            "Requirement already satisfied: pytz>=2018.9 in /usr/local/lib/python3.10/dist-packages (from minatar==1.0.15) (2024.2)\n",
            "Requirement already satisfied: scipy>=1.2.1 in /usr/local/lib/python3.10/dist-packages (from minatar==1.0.15) (1.13.1)\n",
            "Requirement already satisfied: seaborn>=0.9.0 in /usr/local/lib/python3.10/dist-packages (from minatar==1.0.15) (0.13.2)\n",
            "Requirement already satisfied: six>=1.12.0 in /usr/local/lib/python3.10/dist-packages (from minatar==1.0.15) (1.16.0)\n",
            "Requirement already satisfied: contourpy>=1.0.1 in /usr/local/lib/python3.10/dist-packages (from matplotlib>=3.0.3->minatar==1.0.15) (1.3.1)\n",
            "Requirement already satisfied: fonttools>=4.22.0 in /usr/local/lib/python3.10/dist-packages (from matplotlib>=3.0.3->minatar==1.0.15) (4.54.1)\n",
            "Requirement already satisfied: packaging>=20.0 in /usr/local/lib/python3.10/dist-packages (from matplotlib>=3.0.3->minatar==1.0.15) (24.2)\n",
            "Requirement already satisfied: pillow>=6.2.0 in /usr/local/lib/python3.10/dist-packages (from matplotlib>=3.0.3->minatar==1.0.15) (11.0.0)\n",
            "Requirement already satisfied: tzdata>=2022.7 in /usr/local/lib/python3.10/dist-packages (from pandas>=0.24.2->minatar==1.0.15) (2024.2)\n",
            "Requirement already satisfied: matplotlib in /usr/local/lib/python3.10/dist-packages (3.8.0)\n",
            "Requirement already satisfied: contourpy>=1.0.1 in /usr/local/lib/python3.10/dist-packages (from matplotlib) (1.3.1)\n",
            "Requirement already satisfied: cycler>=0.10 in /usr/local/lib/python3.10/dist-packages (from matplotlib) (0.12.1)\n",
            "Requirement already satisfied: fonttools>=4.22.0 in /usr/local/lib/python3.10/dist-packages (from matplotlib) (4.54.1)\n",
            "Requirement already satisfied: kiwisolver>=1.0.1 in /usr/local/lib/python3.10/dist-packages (from matplotlib) (1.4.7)\n",
            "Requirement already satisfied: numpy<2,>=1.21 in /usr/local/lib/python3.10/dist-packages (from matplotlib) (1.26.4)\n",
            "Requirement already satisfied: packaging>=20.0 in /usr/local/lib/python3.10/dist-packages (from matplotlib) (24.2)\n",
            "Requirement already satisfied: pillow>=6.2.0 in /usr/local/lib/python3.10/dist-packages (from matplotlib) (11.0.0)\n",
            "Requirement already satisfied: pyparsing>=2.3.1 in /usr/local/lib/python3.10/dist-packages (from matplotlib) (3.2.0)\n",
            "Requirement already satisfied: python-dateutil>=2.7 in /usr/local/lib/python3.10/dist-packages (from matplotlib) (2.8.2)\n",
            "Requirement already satisfied: six>=1.5 in /usr/local/lib/python3.10/dist-packages (from python-dateutil>=2.7->matplotlib) (1.16.0)\n",
            "Requirement already satisfied: imageio in /usr/local/lib/python3.10/dist-packages (2.36.0)\n",
            "Requirement already satisfied: numpy in /usr/local/lib/python3.10/dist-packages (from imageio) (1.26.4)\n",
            "Requirement already satisfied: pillow>=8.3.2 in /usr/local/lib/python3.10/dist-packages (from imageio) (11.0.0)\n"
          ]
        }
      ],
      "source": [
        "!pip install torch torchvision torchaudio\n",
        "!pip install gymnasium==0.29.1\n",
        "!pip install minatar==1.0.15\n",
        "!pip install matplotlib\n",
        "!pip install imageio"
      ]
    },
    {
      "cell_type": "code",
      "execution_count": 55,
      "metadata": {
        "deletable": false,
        "editable": false,
        "nbgrader": {
          "cell_type": "code",
          "checksum": "a5966047618ac56019cf85416e5aa7df",
          "grade": false,
          "grade_id": "cell-56f2e20fd1046476",
          "locked": true,
          "schema_version": 3,
          "solution": false,
          "task": false
        },
        "id": "m1wS9WTZKCWX"
      },
      "outputs": [],
      "source": [
        "# Imports\n",
        "import torch\n",
        "import torch.nn as nn\n",
        "import torch.optim as optim\n",
        "import torch.nn.functional as F\n",
        "\n",
        "import copy\n",
        "import numpy as np\n",
        "import pandas as pd\n",
        "import random\n",
        "from PIL import Image\n",
        "import gymnasium as gym\n",
        "import matplotlib.pyplot as plt\n",
        "from typing import Callable\n",
        "from collections import namedtuple\n",
        "import itertools"
      ]
    },
    {
      "cell_type": "markdown",
      "metadata": {
        "deletable": false,
        "editable": false,
        "nbgrader": {
          "cell_type": "markdown",
          "checksum": "9688a9db3c61e768f291ffd75626f6bf",
          "grade": false,
          "grade_id": "cell-0a59a0023deaf069",
          "locked": true,
          "schema_version": 3,
          "solution": false,
          "task": false
        },
        "id": "MoV-SJK-KCWX"
      },
      "source": [
        "## 1 Deep Q-Networks\n",
        "Remember, in Q-learning, we have the following update:\n",
        "\n",
        "$Q(s,a) \\leftarrow Q(s,a) + \\alpha (r + \\gamma \\max_{a'}Q(s', a') - Q(s, a))$\n",
        "\n",
        "with discount factor $\\gamma$, learning rate $\\alpha$, reward $r$, sampled state $s$, sampled next state $s'$ and sampled action $a$. Instead of a table, we will now use a neural network to represent the Q-function $Q(s, a; \\theta)$, where $\\theta$ are the parameters of the neural network. In order to learn the Q-function, we minimize the Mean Squared Error loss between our current estimate and our TD target using Stochastic gradient descent (SGD):\n",
        "\n",
        "$ L(\\theta) = \\mathop{{}\\mathbb{E}}_{(s, a, r, s') \\sim D}([r + \\gamma \\max_{a'}Q(s', a'; \\theta') - Q(s, a; \\theta)]^2 )$  \n",
        "\n",
        "where D is a dataset of sampled transitions and $\\theta'$ are old parameters. This is very similar to how we train in a supervised learning setting!\n",
        "\n",
        "---\n",
        "<span style=\"color:orange\">**EXERCISE**</span>: **DQN Warm-up** (5.5p)\n",
        "1. In the Q-update above, which part is the TD target (0.5p) and which one is the TD error? (0.5p)\n",
        "2. Given a neural network with one linear layer and a ReLU activation. Describe the parameters $\\theta$ of this network. (1p)\n",
        "3. Explain the difference between on and off-policy learning in RL (1p). Q-learning is considered off-policy, why? (0.5p)\n",
        "4. In machine learning, we assume that the samples of our data set are independent and identically distributed (i.i.d.). What do we mean by this? (1p)\n",
        "5. What are minibatches and why are they used? (1p)"
      ]
    },
    {
      "cell_type": "markdown",
      "metadata": {
        "deletable": false,
        "nbgrader": {
          "cell_type": "markdown",
          "checksum": "cbead658251878ae7fac3dd544306c52",
          "grade": true,
          "grade_id": "cell-bcd540019cba1a1b",
          "locked": false,
          "points": 5.5,
          "schema_version": 3,
          "solution": true,
          "task": false
        },
        "id": "YSflxDFlKCWX"
      },
      "source": [
        "**Your answers here:**...\n",
        "\n",
        "1. According to the formaula\n",
        "\n",
        "  TD target : (r + $\\gamma \\max_{a'}Q(s', a')$)\n",
        "\n",
        "  TD Error : ($r + \\gamma \\max_{a'}Q(s', a') - Q(s, a)$)\n",
        "\n",
        "2. The parameters θ of the network are:\n",
        "\n",
        "  Weights : A matrix of size  $d_{\\text{output}} \\times d_{\\text{input}}$\n",
        "\n",
        "  Bias    : A vector of size  $d_{\\text{output}}$\n",
        "\n",
        "3. In on-policy learning, the function is learned from actions that we took using our current policy. Whereas in off-policy the agent learns the value of an optimal policy independently of the policy it is currently following.\n",
        "\n",
        "4. Q-Learning learns the optimal action-value function without any dependency on the policy being followed. The policy only helps to select the next state-action pair from a current state.\n",
        "\n",
        "5. Minibatches in Deep Q-Learning are small, randomly sampled subsets of  \n",
        "   experiences here its from  replay buffer.\n",
        "\t They help to improve sampling efficiency."
      ]
    },
    {
      "cell_type": "markdown",
      "metadata": {
        "deletable": false,
        "editable": false,
        "nbgrader": {
          "cell_type": "markdown",
          "checksum": "01034f7f82c7bfb0efac76f7318b0ae9",
          "grade": false,
          "grade_id": "cell-17ce9540304ffb57",
          "locked": true,
          "schema_version": 3,
          "solution": false,
          "task": false
        },
        "id": "pe6fe4NrKCWX"
      },
      "source": [
        "## 1.1 Q-Network\n",
        "\n",
        "Since we are representing our Q-function as a deep neural network, we will first define it using PyTorch. Then we will define the epsilon greedy policy and introduce how to decay the epsilon over time.\n",
        "\n",
        "---\n",
        "<span style=\"color:orange\">**EXERCISE**</span>: **Implementing the Q-Network** (3p)\n",
        "\n",
        "In the DQN paper, the network structure used is described as follows (although we have changed the hyperparameters!):\n",
        "> The input to the neural network consists [..] [of] an 10 × 10 × n image [...]. The first hidden layer convolves 16 5 × 5\n",
        "> filters with stride 1 with the input image and applies a rectifier nonlinearity. The second\n",
        "> hidden layer convolves 32 3 × 3 filters with stride 1, again followed by a rectifier nonlinearity. The\n",
        "> final hidden layer is fully-connected and consists of 128 rectifier units. The output layer is a fully-\n",
        "> connected linear layer with a single output for each valid action.\n",
        "\n",
        "<cite>from [Playing Atari with Deep Reinforcement Learning](https://arxiv.org/pdf/1312.5602.pdf) (Mnih et al., 2013), Page 6</cite>\n",
        "\n",
        "Implement this architecture.\n",
        "\n",
        "*Note: \"Rectifier units\" means the use of the ReLU activation function!*"
      ]
    },
    {
      "cell_type": "code",
      "execution_count": 56,
      "metadata": {
        "deletable": false,
        "nbgrader": {
          "cell_type": "code",
          "checksum": "5ec9097b5d3caf7ddb7b9ebc8b28cf94",
          "grade": false,
          "grade_id": "cell-be61a701fe523b29",
          "locked": false,
          "schema_version": 3,
          "solution": true,
          "task": false
        },
        "id": "-PxLQELlKCWX"
      },
      "outputs": [],
      "source": [
        "class DQN(nn.Module):\n",
        "    \"\"\"\n",
        "\n",
        "    \"\"\"\n",
        "    def __init__(self, obs_shape: torch.Size, num_actions: int):\n",
        "        \"\"\"\n",
        "        Initialize the DQN network.\n",
        "\n",
        "        :param obs_shape: Shape of the observation space\n",
        "        :param num_actions: Number of actions\n",
        "        \"\"\"\n",
        "\n",
        "        # obs_shape is the shape of a single observation -> use this information to define the dimensions of the layers\n",
        "        super(DQN, self).__init__()\n",
        "\n",
        "        # TODO: Your code here\n",
        "        #raise NotImplementedError()\n",
        "        # print(obs_shape)\n",
        "        self.conv1 = nn.Conv2d(in_channels=obs_shape[-1], out_channels=16, kernel_size=5, stride=1)\n",
        "        self.conv2 = nn.Conv2d(in_channels=16, out_channels=32, kernel_size=3, stride=1)\n",
        "        self.fc1 = nn.Linear(32 * obs_shape[-1]* obs_shape[-1], 128)\n",
        "        self.fc2 = nn.Linear(128, num_actions)\n",
        "\n",
        "        self.relu = nn.ReLU()\n",
        "\n",
        "\n",
        "\n",
        "    def forward(self, x: torch.Tensor) -> torch.Tensor:\n",
        "        # TODO: Your code here\n",
        "        # raise NotImplementedError()\n",
        "        x = x.permute(0, 3, 1, 2)\n",
        "        x = self.relu(self.conv1(x))\n",
        "        x = self.relu(self.conv2(x))\n",
        "        x = torch.flatten(x, 1)\n",
        "        x = self.relu(self.fc1(x))\n",
        "        x = self.fc2(x)\n",
        "        return x\n"
      ]
    },
    {
      "cell_type": "code",
      "execution_count": 57,
      "metadata": {
        "deletable": false,
        "editable": false,
        "nbgrader": {
          "cell_type": "code",
          "checksum": "6bb61843f25c77a2115dbae6a2c2fadc",
          "grade": true,
          "grade_id": "cell-24c6c6109bb92421",
          "locked": true,
          "points": 3,
          "schema_version": 3,
          "solution": false,
          "task": false
        },
        "id": "_r19KtdOKCWX"
      },
      "outputs": [],
      "source": [
        "# Test\n",
        "\n",
        "# Create dummy input\n",
        "x_dummy = torch.randn(1, 10, 10, 4)\n",
        "dqn = DQN(x_dummy.shape, 4)\n",
        "\n",
        "assert dqn(x_dummy).shape == (1, 4), f\"Expected output shape (1, 4) but got {dqn(x_dummy).shape}\"\n"
      ]
    },
    {
      "cell_type": "markdown",
      "metadata": {
        "deletable": false,
        "editable": false,
        "nbgrader": {
          "cell_type": "markdown",
          "checksum": "356e7cd107ea57c4a043812a6b9c2bc1",
          "grade": false,
          "grade_id": "cell-553b6fd9513de2d4",
          "locked": true,
          "schema_version": 3,
          "solution": false,
          "task": false
        },
        "id": "pQzqsUWWKCWY"
      },
      "source": [
        "We import the epsilon greedy policy from our previous exercise. Note that we made some changes because Q is a network and epsilon is no longer fixed."
      ]
    },
    {
      "cell_type": "code",
      "execution_count": 58,
      "metadata": {
        "deletable": false,
        "editable": false,
        "nbgrader": {
          "cell_type": "code",
          "checksum": "4f08c02002670934aaff9986ce3e0812",
          "grade": false,
          "grade_id": "cell-14bdfcbb4e00c5ac",
          "locked": true,
          "schema_version": 3,
          "solution": false,
          "task": false
        },
        "id": "DUE6o88aKCWY"
      },
      "outputs": [],
      "source": [
        "def make_epsilon_greedy_policy(Q: nn.Module, num_actions: int):\n",
        "    \"\"\"\n",
        "    Creates an epsilon-greedy policy based on a given Q-function and epsilon. Taken from last exercise with changes.\n",
        "\n",
        "    :param Q: The DQN network.\n",
        "    :param num_actions: Number of actions in the environment.\n",
        "\n",
        "    :returns: A function that takes the observation as an argument and returns the greedy action in form of an int.\n",
        "    \"\"\"\n",
        "\n",
        "    def policy_fn(obs: torch.Tensor, epsilon: float = 0.0):\n",
        "        \"\"\"This function takes in the observation and returns an action.\"\"\"\n",
        "        if np.random.uniform() < epsilon:\n",
        "            return np.random.randint(0, num_actions)\n",
        "\n",
        "        # For action selection, we do not need a gradient and so we call \".detach()\"\n",
        "        return Q(obs).argmax().detach().numpy()\n",
        "\n",
        "    return policy_fn"
      ]
    },
    {
      "cell_type": "markdown",
      "metadata": {
        "deletable": false,
        "editable": false,
        "nbgrader": {
          "cell_type": "markdown",
          "checksum": "d09a549e6b950004047ccd03ec2bc69c",
          "grade": false,
          "grade_id": "cell-cc5d118b11412e4d",
          "locked": true,
          "schema_version": 3,
          "solution": false,
          "task": false
        },
        "id": "vuiKNo8oKCWY"
      },
      "source": [
        "At the beginning of training we want high exploration, while towards the end we want high exploitation instead. As we use $\\epsilon$-greedy we can influence this tradeoff using the parameter of $\\epsilon$. However, setting it to a constant value will not have the desired effect as we saw in the Q-learning Exercise, so we want to start at a high value and decrease it over time.\n",
        "\n",
        "---\n",
        "<span style=\"color:orange\">**EXERCISE**</span>: **Linear $\\epsilon$-decay** (1.5p)\n",
        "\n",
        "Implement a linear decay function for $\\epsilon$, taking the start and end values as inputs. The function returns the current $\\epsilon$ based on the current time step and the duration. So after half the time has passed, the value of $\\epsilon$ should also be halfway between the start and end values."
      ]
    },
    {
      "cell_type": "code",
      "execution_count": 59,
      "metadata": {
        "deletable": false,
        "nbgrader": {
          "cell_type": "code",
          "checksum": "5ed82ed942b5b57ba226695261ef6824",
          "grade": false,
          "grade_id": "cell-5e7b907fe8f217fe",
          "locked": false,
          "schema_version": 3,
          "solution": true,
          "task": false
        },
        "id": "W9peoLIlKCWY"
      },
      "outputs": [],
      "source": [
        "def linear_epsilon_decay(eps_start: float, eps_end: float, current_timestep: int, duration: int) -> float:\n",
        "    \"\"\"\n",
        "    Linear decay of epsilon.\n",
        "\n",
        "    :param eps_start: The initial epsilon value.\n",
        "    :param eps_end: The final epsilon value.\n",
        "    :param current_timestep: The current timestep.\n",
        "    :param duration: The duration of the schedule (in timesteps). So when schedule_duration == current_timestep, eps_end should be reached\n",
        "\n",
        "    :returns: The current epsilon.\n",
        "    \"\"\"\n",
        "\n",
        "    # TODO: Your code here\n",
        "    # raise NotImplementedError()\n",
        "    #epsilon = eps_start + slope *  current_timestep\n",
        "    #slope =  eps_end -  eps_start / duration\n",
        "\n",
        "\n",
        "    epsilon = eps_start - (eps_start - eps_end) * current_timestep / duration\n",
        "    return max(epsilon, eps_end)\n"
      ]
    },
    {
      "cell_type": "markdown",
      "metadata": {
        "deletable": false,
        "editable": false,
        "nbgrader": {
          "cell_type": "markdown",
          "checksum": "3f53275cf7f81a3ed3e954cf048c471e",
          "grade": false,
          "grade_id": "cell-86d775d204f51a7b",
          "locked": true,
          "schema_version": 3,
          "solution": false,
          "task": false
        },
        "id": "LraRr5BBKCWY"
      },
      "source": [
        "Check that the linear epsilon decay works as intended. Your function should start at $\\epsilon=1.0$ and decrease linearly until it reaches time step $600$, where it reaches its final value of $\\epsilon=0.2$ and remains constant."
      ]
    },
    {
      "cell_type": "code",
      "execution_count": 60,
      "metadata": {
        "deletable": false,
        "editable": false,
        "nbgrader": {
          "cell_type": "code",
          "checksum": "ae0efd6303d5190ed70de3c423b6e835",
          "grade": true,
          "grade_id": "cell-0129c9192c53e1bc",
          "locked": true,
          "points": 1.5,
          "schema_version": 3,
          "solution": false,
          "task": false
        },
        "colab": {
          "base_uri": "https://localhost:8080/",
          "height": 472
        },
        "id": "7YMAMoIDKCWY",
        "outputId": "02637a62-a36a-4363-982d-2f9f489df167"
      },
      "outputs": [
        {
          "output_type": "display_data",
          "data": {
            "text/plain": [
              "<Figure size 640x480 with 1 Axes>"
            ],
            "image/png": "[encoded data removed]"
          },
          "metadata": {}
        }
      ],
      "source": [
        "import matplotlib.pyplot as plt\n",
        "\n",
        "eps_start = 1.0\n",
        "eps_end = 0.2\n",
        "schedule_duration = 1000\n",
        "\n",
        "eps_values = [linear_epsilon_decay(eps_start, eps_end, t, 600) for t in range(schedule_duration)]\n",
        "\n",
        "plt.plot(range(schedule_duration), eps_values)\n",
        "plt.xlabel('Time Step')\n",
        "plt.ylabel('Epsilon')\n",
        "plt.title('Linear Epsilon Decay')\n",
        "plt.show()\n"
      ]
    },
    {
      "cell_type": "markdown",
      "metadata": {
        "deletable": false,
        "editable": false,
        "nbgrader": {
          "cell_type": "markdown",
          "checksum": "7c6677a4d16627083206465722bb4a0e",
          "grade": false,
          "grade_id": "cell-a2d6542500aadffa",
          "locked": true,
          "schema_version": 3,
          "solution": false,
          "task": false
        },
        "id": "zig2DcAuKCWY"
      },
      "source": [
        "## 1.2 Target Network and Replay Buffer\n",
        "As described before, the main idea behind DQN is simple, we just minimize the MSE between the TD-target and the current estimate using the transitions we sampled. However, there are two problems that make the method very unstable:\n",
        "\n",
        "1. **Non-stationary target**: The TD-target uses an estimate from our Q-network. Unlike supervised learning, this target is not fixed, and whenever we update our network parameters, the target changes as well.\n",
        "2. Sampled transitions are **correlated** (each transition depends on the last transition if both are from the same episode). Samples are not independent.\n",
        "\n",
        "DQNs addresses both problems by using\n",
        "\n",
        "1. **Target networks:**\n",
        "An older set of network parameters is stored to compute the TD target, so they change less frequently and this improves stability. We call this network the target network. Its parameters are updated every few iterations.\n",
        "2. **Experience Replay:**\n",
        "A buffer where all transitions are stored and randomly sampled to make the data distribution more stationary. The buffer has a fixed size and new samples overwrite old ones.\n",
        "\n",
        "First we look at the target network:"
      ]
    },
    {
      "cell_type": "code",
      "execution_count": 61,
      "metadata": {
        "deletable": false,
        "editable": false,
        "nbgrader": {
          "cell_type": "code",
          "checksum": "cccd581dc6911abc824b267ba1c96a71",
          "grade": false,
          "grade_id": "cell-f848f9de7481eee5",
          "locked": true,
          "schema_version": 3,
          "solution": false,
          "task": false
        },
        "colab": {
          "base_uri": "https://localhost:8080/"
        },
        "id": "ViRER9t_KCWY",
        "outputId": "1d0a1753-1144-40e4-dec2-c7a5661dd919"
      },
      "outputs": [
        {
          "output_type": "stream",
          "name": "stdout",
          "text": [
            "Prediction (Before): tensor([0.4014], grad_fn=<ViewBackward0>)\n",
            "\n",
            "Parameters:\n",
            "- Parameter 0.weight:\n",
            "tensor([[ 0.1459, -0.3399,  0.1251,  0.2449],\n",
            "        [-0.0891, -0.3174,  0.1332, -0.2201],\n",
            "        [ 0.2585,  0.4106,  0.2046,  0.2208]])\n",
            "- Parameter 0.bias:\n",
            "tensor([-0.4682,  0.1404,  0.4041])\n",
            "- Parameter 2.weight:\n",
            "tensor([[0.1986, 0.4774, 0.0719]])\n",
            "- Parameter 2.bias:\n",
            "tensor([0.1168])\n",
            "\n",
            "Prediction (After change): tensor([0.2129], grad_fn=<ViewBackward0>)\n",
            "\n",
            "Prediction (After reload): tensor([0.4014], grad_fn=<ViewBackward0>)\n",
            "\n"
          ]
        }
      ],
      "source": [
        "test_input = torch.tensor([1, 2, 3, 4], dtype=torch.float32)\n",
        "\n",
        "# Given a neural network\n",
        "net = nn.Sequential(\n",
        "    nn.Linear(4, 3),\n",
        "    nn.ReLU(),\n",
        "    nn.Linear(3, 1)\n",
        ")\n",
        "print(f\"Prediction (Before): {net(test_input)}\\n\")\n",
        "\n",
        "# We can get its parameters with .state_dict(). A dictionary containing all the parameters.\n",
        "# Note: It contains even more than parameters, but that is not relevant for us.\n",
        "params = copy.deepcopy(net.state_dict())\n",
        "\n",
        "print(\"Parameters:\")\n",
        "for key, value in params.items():\n",
        "    print(f\"- Parameter {key}:\\n{value}\")\n",
        "\n",
        "# Set weight matrix of first layer to zero\n",
        "net[0].weight.data.fill_(0.0)\n",
        "print(f\"\\nPrediction (After change): {net(test_input)}\\n\")\n",
        "\n",
        "# Load the old parameters\n",
        "net.load_state_dict(params)\n",
        "print(f\"Prediction (After reload): {net(test_input)}\\n\")\n"
      ]
    },
    {
      "cell_type": "markdown",
      "metadata": {
        "deletable": false,
        "editable": false,
        "nbgrader": {
          "cell_type": "markdown",
          "checksum": "1b2064132d50b780480dfc79d8485d9d",
          "grade": false,
          "grade_id": "cell-8b52826232517bbf",
          "locked": true,
          "schema_version": 3,
          "solution": false,
          "task": false
        },
        "id": "Men_cXSgKCWY"
      },
      "source": [
        "So we can save and load old parameters of our network using ``.state_dict()`` and ``.load_state_dict(..)`` respectively.\n",
        "\n",
        "---\n",
        "<span style=\"color:orange\">**EXERCISE**</span>: **Implement the Replay Buffer** (4p)\n",
        "\n",
        "The replay buffer stores transitions of the form $(s, a, r, s')$ with $s$ as the current state, the action $a$, the reward $r$, and the next state $s'$. The buffer can perform two operations:\n",
        "- **store**: During sampling we observe transitions and store them with ``buffer.store(...)``. However, the buffer only has a fixed size\n",
        "(as we cannot store an infinte amount of data). When reaching it, the oldest samples are overwritten first.\n",
        "- **sample**: For training, we want to sample a batch of transitions from our buffer via ``buffer.sample(...)``. The transitions are sampled uniformly and with replacement i.e. the same transition can be sampled more than once.\n",
        "\n",
        "In the following, implement the replay buffer by filling in the missing code and implementing both functions.\n"
      ]
    },
    {
      "cell_type": "code",
      "execution_count": 62,
      "metadata": {
        "deletable": false,
        "nbgrader": {
          "cell_type": "code",
          "checksum": "caab7ad3832389c0c9da83b3f9bd2f13",
          "grade": true,
          "grade_id": "cell-e9eeb3fa39ba4c44",
          "locked": false,
          "points": 4,
          "schema_version": 3,
          "solution": true,
          "task": false
        },
        "id": "uTbl49i-KCWY"
      },
      "outputs": [],
      "source": [
        "class ReplayBuffer:\n",
        "    def __init__(self, max_size: int):\n",
        "        \"\"\"\n",
        "        Create the replay buffer.\n",
        "\n",
        "        :param max_size: Maximum number of transitions in the buffer.\n",
        "        \"\"\"\n",
        "        self.data = []\n",
        "        self.max_size = max_size\n",
        "        self.position = 0\n",
        "\n",
        "    def __len__(self) -> int:\n",
        "        \"\"\"Returns how many transitions are currently in the buffer.\"\"\"\n",
        "        # TODO: Your code here\n",
        "        # raise NotImplementedError()\n",
        "        return len(self.data)\n",
        "\n",
        "    def store(self, obs: torch.Tensor, action: torch.Tensor, reward: torch.Tensor, next_obs: torch.Tensor, terminated: torch.Tensor):\n",
        "        \"\"\"\n",
        "        Adds a new transition to the buffer. When the buffer is full, overwrite the oldest transition.\n",
        "\n",
        "        :param obs: The current observation.\n",
        "        :param action: The action.\n",
        "        :param reward: The reward.\n",
        "        :param next_obs: The next observation.\n",
        "        :param terminated: Whether the episode terminated.\n",
        "        \"\"\"\n",
        "        # TODO: Your code here\n",
        "        # raise NotImplementedError()\n",
        "        if len(self.data) < self.max_size:\n",
        "            self.data.append(None)\n",
        "        self.data[self.position] = (obs, action, reward, next_obs, terminated)\n",
        "        self.position = (self.position + 1) % self.max_size\n",
        "\n",
        "\n",
        "    def sample(self, batch_size: int) -> torch.Tensor:\n",
        "        \"\"\"\n",
        "        Sample a batch of transitions uniformly and with replacement. The respective elements e.g. states, actions, rewards etc. are stacked\n",
        "\n",
        "        :param batch_size: The batch size.\n",
        "        :returns: A tuple of tensors (obs_batch, action_batch, reward_batch, next_obs_batch, terminated_batch), where each tensors is stacked.\n",
        "        \"\"\"\n",
        "        # TODO: Your code here\n",
        "        # raise NotImplementedError()\n",
        "        batch = random.sample(self.data, batch_size)\n",
        "        obs_batch = torch.stack([i[0] for i in batch])\n",
        "        action_batch = torch.tensor([i[1] for i in batch])\n",
        "        reward_batch = torch.tensor([i[2] for i in batch])\n",
        "        next_obs_batch = torch.stack([i[3] for i in batch])\n",
        "        terminated_batch = torch.tensor([i[4] for i in batch])\n",
        "        return obs_batch, action_batch, reward_batch, next_obs_batch, terminated_batch\n",
        "\n"
      ]
    },
    {
      "cell_type": "markdown",
      "metadata": {
        "deletable": false,
        "editable": false,
        "nbgrader": {
          "cell_type": "markdown",
          "checksum": "42b1cb56e0450f2133b3b7f0480684fa",
          "grade": false,
          "grade_id": "cell-92a7d8b048290301",
          "locked": true,
          "schema_version": 3,
          "solution": false,
          "task": false
        },
        "id": "M9XCuHOgKCWY"
      },
      "source": [
        "---\n",
        "<span style=\"color:orange\">**EXERCISE**</span>: **Replay Buffer** (3p)\n",
        "\n",
        "1. Describe the practical trade-off when choosing the size of the replay buffer. Is bigger always better? (2p)\n",
        "2. Suppose we have only one transition in the replay buffer and we are now sampling a batch of 16 samples. What happens and why might this be problematic for training? (1p)\n"
      ]
    },
    {
      "cell_type": "markdown",
      "metadata": {
        "deletable": false,
        "nbgrader": {
          "cell_type": "markdown",
          "checksum": "417ad3b97445dead2cd91bdfd796b52c",
          "grade": true,
          "grade_id": "cell-a7c8dcfbea9b82f0",
          "locked": false,
          "points": 3,
          "schema_version": 3,
          "solution": true,
          "task": false
        },
        "id": "ZGyaMUS4KCWY"
      },
      "source": [
        "**Your answers here:**...\n",
        "\n",
        "1. For the algorithm to be  stable, the replay buffer should be large enough to contain a wide range of experiences, but it may not always be good.\n",
        "Larger buffers offer more diversity and stability but increases memory costs, also causes slower sampling.\n",
        "\n",
        "2. The same transition will be sampled repeatedly to form the minibatch. Training the network on this may cause the model to overfit to that specific transition."
      ]
    },
    {
      "cell_type": "markdown",
      "metadata": {
        "deletable": false,
        "editable": false,
        "nbgrader": {
          "cell_type": "markdown",
          "checksum": "0fda26a0d548beabd9f9ecc518ce6b2a",
          "grade": false,
          "grade_id": "cell-c93921fe09c62bb1",
          "locked": true,
          "schema_version": 3,
          "solution": false,
          "task": false
        },
        "id": "eXYTgiqmKCWY"
      },
      "source": [
        "## 1.3 Algorithm\n",
        "In this section, we will first look at the update of the DQN and then implement the entire algorithm.\n",
        "\n",
        "---\n",
        "<span style=\"color:orange\">**EXERCISE**</span>: **Implementing the DQN Update** (3p)\n",
        "\n",
        "Write the function ``update_dqn``, which gets the sampled data from the replay buffer, calculates the DQN loss and performs an update step."
      ]
    },
    {
      "cell_type": "code",
      "execution_count": 63,
      "metadata": {
        "deletable": false,
        "nbgrader": {
          "cell_type": "code",
          "checksum": "b7d28b9fb050e030ee087c13cb28ad99",
          "grade": true,
          "grade_id": "cell-581cb139fd50e0f1",
          "locked": false,
          "points": 3,
          "schema_version": 3,
          "solution": true,
          "task": false
        },
        "id": "z2BhGh6oKCWY"
      },
      "outputs": [],
      "source": [
        "def update_dqn(\n",
        "        q: nn.Module,\n",
        "        q_target: nn.Module,\n",
        "        optimizer: optim.Optimizer,\n",
        "        gamma: float,\n",
        "        obs: torch.Tensor,\n",
        "        act: torch.Tensor,\n",
        "        rew: torch.Tensor,\n",
        "        next_obs: torch.Tensor,\n",
        "        tm: torch.Tensor,\n",
        "    ):\n",
        "    \"\"\"\n",
        "    Update the DQN network for one optimizer step.\n",
        "\n",
        "    :param q: The DQN network.\n",
        "    :param q_target: The target DQN network.\n",
        "    :param optimizer: The optimizer.\n",
        "    :param gamma: The discount factor.\n",
        "    :param obs: Batch of current observations.\n",
        "    :param act: Batch of actions.\n",
        "    :param rew: Batch of rewards.\n",
        "    :param next_obs: Batch of next observations.\n",
        "    :param tm: Batch of termination flags.\n",
        "\n",
        "    \"\"\"\n",
        "    # TODO: Zero out the gradient\n",
        "    # raise NotImplementedError()\n",
        "    optimizer.zero_grad()\n",
        "\n",
        "\n",
        "    # TODO: Calculate the TD-Target\n",
        "    #target = reward + gamma.(1 - terminated) . max( Qtarget(s', a)\n",
        "\n",
        "    with torch.no_grad():\n",
        "        # raise NotImplementedError()\n",
        "        q_values = rew + gamma * (1 - tm.float()) * torch.max(q_target(next_obs), dim=1)[0]\n",
        "\n",
        "\n",
        "    # TODO: Calculate the loss. Hint: Pytorch has the \".gather()\" function, which collects values along a specified axis using some specified indexes\n",
        "    # raise NotImplementedError()\n",
        "    current_q_values = q(obs).gather(1, act.unsqueeze(1)).squeeze(1)\n",
        "\n",
        "    loss = F.mse_loss(current_q_values, q_values)\n",
        "\n",
        "\n",
        "\n",
        "    # TODO: Backpropagate the loss and step the optimizer\n",
        "    # raise NotImplementedError()\n",
        "    loss.backward()\n",
        "    optimizer.step()\n",
        "\n",
        "    return loss\n",
        "\n",
        "\n"
      ]
    },
    {
      "cell_type": "markdown",
      "metadata": {
        "deletable": false,
        "editable": false,
        "nbgrader": {
          "cell_type": "markdown",
          "checksum": "cd38d7909dc0e41cbbb4af48fbbddacc",
          "grade": false,
          "grade_id": "cell-cf10276597ca39e3",
          "locked": true,
          "schema_version": 3,
          "solution": false,
          "task": false
        },
        "id": "BfHFJIHEKCWY"
      },
      "source": [
        "We are now putting it all together. This implementation is very similar to the Q-learning one. Note that we have not specified an environment yet! Our algorithm remains relatively flexible.\n",
        "\n",
        "---\n",
        "<span style=\"color:orange\">**EXERCISE**</span>: **Implementing the DQN Agent** (3.5p)\n",
        "\n",
        "Implement the DQN agent by filling in the missing gaps in the code."
      ]
    },
    {
      "cell_type": "code",
      "execution_count": 64,
      "metadata": {
        "deletable": false,
        "nbgrader": {
          "cell_type": "code",
          "checksum": "d2567fe20dcb19040977c7b7c1f87983",
          "grade": true,
          "grade_id": "cell-ea9e6a4c5d20b294",
          "locked": false,
          "points": 3.5,
          "schema_version": 3,
          "solution": true,
          "task": false
        },
        "id": "fRI--kOmKCWY"
      },
      "outputs": [],
      "source": [
        "EpisodeStats = namedtuple(\"Stats\", [\"episode_lengths\", \"episode_rewards\"])\n",
        "\n",
        "\n",
        "class DQNAgent:\n",
        "    def __init__(self,\n",
        "            env,\n",
        "            gamma=0.99,\n",
        "            lr=0.001,\n",
        "            batch_size=64,\n",
        "            eps_start=1.0,\n",
        "            eps_end=0.1,\n",
        "            schedule_duration=10_000,\n",
        "            update_freq=100,\n",
        "            maxlen=100_000,\n",
        "        ):\n",
        "        \"\"\"\n",
        "        Initialize the DQN agent.\n",
        "\n",
        "        :param env: The environment.\n",
        "        :param gamma: The discount factor.\n",
        "        :param lr: The learning rate.\n",
        "        :param batch_size: Mini batch size.\n",
        "        :param eps_start: The initial epsilon value.\n",
        "        :param eps_end: The final epsilon value.\n",
        "        :param schedule_duration: The duration of the schedule (in timesteps).\n",
        "        :param update_freq: How often to update the Q target.\n",
        "        :param max_size: Maximum number of transitions in the buffer.\n",
        "        \"\"\"\n",
        "\n",
        "        self.env = env\n",
        "        self.gamma = gamma\n",
        "        self.batch_size = batch_size\n",
        "        self.eps_start = eps_start\n",
        "        self.eps_end = eps_end\n",
        "        self.schedule_duration = schedule_duration\n",
        "        self.update_freq = update_freq\n",
        "\n",
        "        # TODO: Initialize the Replay Buffer\n",
        "        # raise NotImplementedError()\n",
        "        self.replay_buffer = ReplayBuffer(maxlen)\n",
        "\n",
        "        # TODO: Initialize the Deep Q-Network. Hint: Remember observation_space and action_space\n",
        "        # raise NotImplementedError()\n",
        "        self.q = DQN(env.observation_space.shape, env.action_space.n)\n",
        "\n",
        "        # TODO: Initialize the second Q-Network, the target network. Load the parameters of the first one into the second\n",
        "        # raise NotImplementedError()\n",
        "        self.q_target = DQN(env.observation_space.shape, env.action_space.n)\n",
        "        self.q_target.load_state_dict(self.q.state_dict())\n",
        "\n",
        "        # TODO: Create an ADAM optimizer for the Q-network\n",
        "        # raise NotImplementedError()\n",
        "        self.optimizer = optim.Adam(self.q.parameters(), lr=lr)\n",
        "\n",
        "        self.policy = make_epsilon_greedy_policy(self.q, env.action_space.n)\n",
        "\n",
        "\n",
        "    def train(self, num_episodes: int) -> EpisodeStats:\n",
        "        \"\"\"\n",
        "        Train the DQN agent.\n",
        "\n",
        "        :param num_episodes: Number of episodes to train.\n",
        "        :returns: The episode statistics.\n",
        "        \"\"\"\n",
        "        # Keeps track of useful statistics\n",
        "        stats = EpisodeStats(\n",
        "            episode_lengths=np.zeros(num_episodes),\n",
        "            episode_rewards=np.zeros(num_episodes),\n",
        "        )\n",
        "        current_timestep = 0\n",
        "        epsilon = self.eps_start\n",
        "\n",
        "        for i_episode in range(num_episodes):\n",
        "            # Print out which episode we're on, useful for debugging.\n",
        "            if (i_episode + 1) % 100 == 0:\n",
        "                print(f'Episode {i_episode + 1} of {num_episodes}  Time Step: {current_timestep}  Epsilon: {epsilon:.3f}')\n",
        "\n",
        "            # Reset the environment and get initial observation\n",
        "            obs, _ = self.env.reset()\n",
        "\n",
        "            for episode_time in itertools.count():\n",
        "                # TODO: Get current epsilon value\n",
        "                # raise NotImplementedError()\n",
        "                epsilon = linear_epsilon_decay(self.eps_start, self.eps_end, current_timestep, self.schedule_duration)\n",
        "\n",
        "                # Choose action and execute\n",
        "                action = self.policy(torch.as_tensor(obs).unsqueeze(0).float(), epsilon=epsilon)\n",
        "                next_obs, reward, terminated, truncated, _ = self.env.step(action)\n",
        "\n",
        "                # Update statistics\n",
        "                stats.episode_rewards[i_episode] += reward\n",
        "                stats.episode_lengths[i_episode] += 1\n",
        "\n",
        "                # TODO: Store sample in the replay buffer\n",
        "                # raise NotImplementedError()\n",
        "\n",
        "                self.replay_buffer.store(\n",
        "                    torch.tensor(obs).float(), torch.tensor(action),reward, torch.tensor(next_obs).float(), terminated\n",
        "                )\n",
        "\n",
        "                # TODO: Sample a mini batch from the replay buffer\n",
        "                # raise NotImplementedError()\n",
        "                # if no else gives error\n",
        "                if len(self.replay_buffer) >= self.batch_size:\n",
        "                  obs_batch, act_batch, rew_batch, next_obs_batch, tm_batch = self.replay_buffer.sample(self.batch_size)\n",
        "                else:\n",
        "                  break\n",
        "\n",
        "                # Update the Q network\n",
        "                update_dqn(\n",
        "                    self.q,\n",
        "                    self.q_target,\n",
        "                    self.optimizer,\n",
        "                    self.gamma,\n",
        "                    obs_batch.float(),\n",
        "                    act_batch,\n",
        "                    rew_batch.float(),\n",
        "                    next_obs_batch.float(),\n",
        "                    tm_batch\n",
        "                )\n",
        "\n",
        "                # Update the current Q target\n",
        "                if current_timestep % self.update_freq == 0:\n",
        "                    self.q_target.load_state_dict(self.q.state_dict())\n",
        "                current_timestep += 1\n",
        "\n",
        "                # Check whether the episode is finished\n",
        "                if terminated or truncated or episode_time >= 500:\n",
        "                    break\n",
        "                obs = next_obs\n",
        "        return stats"
      ]
    },
    {
      "cell_type": "markdown",
      "metadata": {
        "deletable": false,
        "editable": false,
        "nbgrader": {
          "cell_type": "markdown",
          "checksum": "2bee26fa6379c98c80963ea4a8603eda",
          "grade": false,
          "grade_id": "cell-b4beb2ffa5f81b01",
          "locked": true,
          "schema_version": 3,
          "solution": false,
          "task": false
        },
        "id": "5vOW35-bKCWY"
      },
      "source": [
        "## 1.4 Training\n",
        "Now, we want to run our algorithm on a task in [MinAtar](https://github.com/kenjyoung/MinAtar). You are free to choose any environment you like, however, we recommend Breakout-v1 as the other environments may need different hyperparameters and more training time. The following game ID's are available: SpaceInvaders-v1, Breakout-v1, Seaquest-v1, Asterix-v1 and Freeway-v1.\n",
        "Note, that the training can take several minutes."
      ]
    },
    {
      "cell_type": "code",
      "execution_count": 65,
      "metadata": {
        "deletable": false,
        "editable": false,
        "nbgrader": {
          "cell_type": "code",
          "checksum": "c5c43245162e35823e014e7d35aab00b",
          "grade": false,
          "grade_id": "cell-a177045dee6d0c56",
          "locked": true,
          "schema_version": 3,
          "solution": false,
          "task": false
        },
        "colab": {
          "base_uri": "https://localhost:8080/"
        },
        "id": "6WroB3otKCWZ",
        "outputId": "cdcdbe36-9888-4081-a30c-7d12d3fea129"
      },
      "outputs": [
        {
          "output_type": "stream",
          "name": "stdout",
          "text": [
            "Training on MinAtar/Breakout-v1\n",
            "Observation space: Box(False, True, (10, 10, 4), bool)\n",
            "Action space: Discrete(3)\n",
            "\n",
            "Episode 100 of 1000  Time Step: 794  Epsilon: 0.476\n",
            "Episode 200 of 1000  Time Step: 2118  Epsilon: 0.436\n",
            "Episode 300 of 1000  Time Step: 4006  Epsilon: 0.380\n",
            "Episode 400 of 1000  Time Step: 6250  Epsilon: 0.313\n",
            "Episode 500 of 1000  Time Step: 8670  Epsilon: 0.240\n",
            "Episode 600 of 1000  Time Step: 11840  Epsilon: 0.145\n",
            "Episode 700 of 1000  Time Step: 16646  Epsilon: 0.050\n",
            "Episode 800 of 1000  Time Step: 21754  Epsilon: 0.050\n",
            "Episode 900 of 1000  Time Step: 28186  Epsilon: 0.050\n",
            "Episode 1000 of 1000  Time Step: 34440  Epsilon: 0.050\n"
          ]
        }
      ],
      "source": [
        "# Choose your environment\n",
        "env = gym.make('MinAtar/Breakout-v1', render_mode=\"rgb_array\")\n",
        "#env = gym.make('MinAtar/Asterix-v1', render_mode=\"rgb_array\")\n",
        "\n",
        "\n",
        "# Print observation and action space infos\n",
        "print(f\"Training on {env.spec.id}\")\n",
        "print(f\"Observation space: {env.observation_space}\")\n",
        "print(f\"Action space: {env.action_space}\\n\")\n",
        "\n",
        "# Hyperparameters, Hint: Change as you see fit\n",
        "LR = 0.001\n",
        "BATCH_SIZE = 8\n",
        "REPLAY_BUFFER_SIZE = 100_000\n",
        "UPDATE_FREQ = 100\n",
        "EPS_START = 0.5\n",
        "EPS_END = 0.05\n",
        "SCHEDULE_DURATION = 15_000\n",
        "NUM_EPISODES = 1_000\n",
        "DISCOUNT_FACTOR = 0.99\n",
        "\n",
        "# Train DQN\n",
        "agent = DQNAgent(\n",
        "    env,\n",
        "    gamma=DISCOUNT_FACTOR,\n",
        "    lr=LR,\n",
        "    batch_size=BATCH_SIZE,\n",
        "    eps_start=EPS_START,\n",
        "    eps_end=EPS_END,\n",
        "    schedule_duration=SCHEDULE_DURATION,\n",
        "    update_freq=UPDATE_FREQ,\n",
        "    maxlen=REPLAY_BUFFER_SIZE,\n",
        ")\n",
        "stats = agent.train(NUM_EPISODES)"
      ]
    },
    {
      "cell_type": "markdown",
      "metadata": {
        "deletable": false,
        "editable": false,
        "nbgrader": {
          "cell_type": "markdown",
          "checksum": "abadb112a1a7897eaa16823fa8975f5c",
          "grade": false,
          "grade_id": "cell-93e358e0c1874f78",
          "locked": true,
          "schema_version": 3,
          "solution": false,
          "task": false
        },
        "id": "7-jGuSj-KCWZ"
      },
      "source": [
        "# 1.5 Results\n",
        "\n",
        "Like in the last exercise, we will look at the resulting episode reward."
      ]
    },
    {
      "cell_type": "code",
      "execution_count": 66,
      "metadata": {
        "deletable": false,
        "editable": false,
        "nbgrader": {
          "cell_type": "code",
          "checksum": "bf3549f48f6e9f799358edf908710787",
          "grade": false,
          "grade_id": "cell-c4ea19ae05671a23",
          "locked": true,
          "schema_version": 3,
          "solution": false,
          "task": false
        },
        "id": "qF8UzwKDKCWZ",
        "colab": {
          "base_uri": "https://localhost:8080/",
          "height": 506
        },
        "outputId": "08c2ba07-cebc-4e14-e1f6-14c18b6b3e88"
      },
      "outputs": [
        {
          "output_type": "display_data",
          "data": {
            "text/plain": [
              "<Figure size 1000x500 with 2 Axes>"
            ],
            "image/png": "[encoded data removed]"
          },
          "metadata": {}
        }
      ],
      "source": [
        "smoothing_window=20\n",
        "fig, axes = plt.subplots(1, 2, figsize=(10, 5), tight_layout=True)\n",
        "\n",
        "# Plot the episode length over time\n",
        "ax = axes[0]\n",
        "ax.plot(stats.episode_lengths)\n",
        "ax.set_xlabel(\"Episode\")\n",
        "ax.set_ylabel(\"Episode Length\")\n",
        "ax.set_title(\"Episode Length over Time\")\n",
        "\n",
        "# Plot the episode reward over time\n",
        "ax = axes[1]\n",
        "rewards_smoothed = pd.Series(stats.episode_rewards).rolling(smoothing_window, min_periods=smoothing_window).mean()\n",
        "ax.plot(rewards_smoothed)\n",
        "ax.set_xlabel(\"Episode\")\n",
        "ax.set_ylabel(\"Episode Reward (Smoothed)\")\n",
        "ax.set_title(f\"Episode Reward over Time\\n(Smoothed over window size {smoothing_window})\")\n",
        "plt.show()"
      ]
    },
    {
      "cell_type": "markdown",
      "metadata": {
        "deletable": false,
        "editable": false,
        "nbgrader": {
          "cell_type": "markdown",
          "checksum": "af1745404f15856a74f61d5eb050f640",
          "grade": false,
          "grade_id": "cell-8ba78bd035a21bc1",
          "locked": true,
          "schema_version": 3,
          "solution": false,
          "task": false
        },
        "id": "dwHDk8PAKCWZ"
      },
      "source": [
        "Lastly, let us see what the learned policy does in action."
      ]
    },
    {
      "cell_type": "code",
      "execution_count": 67,
      "metadata": {
        "deletable": false,
        "editable": false,
        "nbgrader": {
          "cell_type": "code",
          "checksum": "dbf5868f2d439f8bf634d4fe2267cfad",
          "grade": false,
          "grade_id": "cell-dbcfd10b74c6d50e",
          "locked": true,
          "schema_version": 3,
          "solution": false,
          "task": false
        },
        "id": "pu0M_2fmKCWZ",
        "colab": {
          "base_uri": "https://localhost:8080/",
          "height": 497
        },
        "outputId": "c0ec5d61-ea3c-472d-8440-efc5eb5da588"
      },
      "outputs": [
        {
          "output_type": "execute_result",
          "data": {
            "image/gif": "[encoded data removed]",
            "text/plain": [
              "<IPython.core.display.Image object>"
            ]
          },
          "metadata": {},
          "execution_count": 67
        }
      ],
      "source": [
        "from IPython.display import Image as IImage\n",
        "\n",
        "def save_rgb_animation(rgb_arrays, filename, duration=50):\n",
        "    \"\"\"Save an animated GIF from a list of RGB arrays.\"\"\"\n",
        "    # Create a list to hold each frame\n",
        "    frames = []\n",
        "\n",
        "    # Convert RGB arrays to PIL Image objects\n",
        "    for rgb_array in rgb_arrays:\n",
        "        rgb_array = (rgb_array*255).astype(np.uint8)\n",
        "        rgb_array = rgb_array.repeat(48, axis=0).repeat(48, axis=1)\n",
        "        img = Image.fromarray(rgb_array)\n",
        "        frames.append(img)\n",
        "\n",
        "    # Save the frames as an animated GIF\n",
        "    frames[0].save(filename, save_all=True, append_images=frames[1:], duration=duration, loop=0)\n",
        "\n",
        "def rendered_rollout(policy, env, max_steps=1_000):\n",
        "    \"\"\"Rollout for one episode while saving all rendered images.\"\"\"\n",
        "    obs, _ = env.reset()\n",
        "    imgs = [env.render()]\n",
        "\n",
        "    for _ in range(max_steps):\n",
        "        action = policy(torch.as_tensor(obs, dtype=torch.float32).unsqueeze(0))\n",
        "        obs, _, terminated, truncated, _ = env.step(action)\n",
        "        imgs.append(env.render())\n",
        "\n",
        "        if terminated or truncated:\n",
        "            break\n",
        "\n",
        "    return imgs\n",
        "\n",
        "policy = make_epsilon_greedy_policy(agent.q, num_actions=env.action_space.n)\n",
        "imgs = rendered_rollout(policy, env)\n",
        "save_rgb_animation(imgs, \"trained.gif\")\n",
        "IImage(filename=\"trained.gif\")"
      ]
    },
    {
      "cell_type": "markdown",
      "metadata": {
        "deletable": false,
        "editable": false,
        "nbgrader": {
          "cell_type": "markdown",
          "checksum": "1e59e697be38c22a3f07983f16f4dd7c",
          "grade": false,
          "grade_id": "cell-2f976a8294047887",
          "locked": true,
          "schema_version": 3,
          "solution": false,
          "task": false
        },
        "id": "Q5XTnU8NKCWZ"
      },
      "source": [
        "We have not trained very far because it can be very time consuming. But feel free to change the hyperparameters and try to improve your results!\n",
        "\n",
        "---\n",
        "<span style=\"color:orange\">**EXERCISE**</span>: **The deadly triad** (2 points)\n",
        "\n",
        "In Sutton and Barto's \"Reinforcement Learning: An Introduction\" they introduced the concept of the **Deadly Triad**. Investigate this concept and explain in your own words what it describes. What does it say about DQNs?"
      ]
    },
    {
      "cell_type": "markdown",
      "metadata": {
        "deletable": false,
        "nbgrader": {
          "cell_type": "markdown",
          "checksum": "c4b100e91dd1e1baa4a3cf1f420ac900",
          "grade": true,
          "grade_id": "cell-c732353a7944c3d8",
          "locked": false,
          "points": 2,
          "schema_version": 3,
          "solution": true,
          "task": false
        },
        "id": "_npgbRlvKCWZ"
      },
      "source": [
        "**Your answers here:**...\n",
        "\n",
        "The Deadly Triad is a concept which highlights a combination of three elements Function Approximation,  Bootstrapping and Off-policy Training. These can lead to instability and divergence when used together.\n",
        "DQNs, include all three of these elements. DQNs are a type of off-policy algorithm that uses function approximation to estimate Q-values and uses bootstrapping by updating Q-values based on the maximum predicted Q-value.\n",
        "It can cause the learning process to diverge rather than converge to an optimal policy.\n",
        "Through techniques like experience replay and target networks, issues caused by the deadly triad can be addresssed."
      ]
    },
    {
      "cell_type": "markdown",
      "metadata": {
        "deletable": false,
        "editable": false,
        "nbgrader": {
          "cell_type": "markdown",
          "checksum": "d30fa2e22cd4d2da2fd62610c4403b11",
          "grade": false,
          "grade_id": "cell-6d3f59695aec105d",
          "locked": true,
          "schema_version": 3,
          "solution": false,
          "task": false
        },
        "id": "d520CZf0KCWZ"
      },
      "source": [
        "---\n",
        "<span style=\"color:orange\">**EXERCISE**</span>: **Going beyond discrete action spaces** (1.5 points)\n",
        "\n",
        "1. What is the difference between discrete and continuous action spaces?\n",
        "2. Name a key problem that may arise by using DQN for continuous action spaces. Hint: Think about how we select a greedy action."
      ]
    },
    {
      "cell_type": "markdown",
      "metadata": {
        "deletable": false,
        "nbgrader": {
          "cell_type": "markdown",
          "checksum": "d4f54bdee1c58604a05406b39d2db66e",
          "grade": true,
          "grade_id": "cell-4780e5a781b693fa",
          "locked": false,
          "points": 1.5,
          "schema_version": 3,
          "solution": true,
          "task": false
        },
        "id": "NiRQIlfqKCWZ"
      },
      "source": [
        "**Your answers here:**...\n",
        "\n",
        "1. In discrete set of possible actions is finite and distinct. eg RIGHT, LEFT, UP, DOWN whereas in continuous the  possible actions is continuous and can take any value within a range.\n",
        "\n",
        "2. It relies on selecting the greedy action by choosing the maximum Q-value over a finite set of actions, which is not feasible with a continuous set. Thus we need specialized algorithms like policy gradient methods when working with continuous action spaces."
      ]
    },
    {
      "cell_type": "markdown",
      "metadata": {
        "deletable": false,
        "editable": false,
        "nbgrader": {
          "cell_type": "markdown",
          "checksum": "ae4827a587c050c56de3f248da873f19",
          "grade": false,
          "grade_id": "cell-73b6ef9d83c95855",
          "locked": true,
          "schema_version": 3,
          "solution": false,
          "task": false
        },
        "id": "QL2BwHiXKCWZ"
      },
      "source": [
        "---\n",
        "<span style=\"color:orange\">**FEEDBACK**</span>\n",
        "\n",
        "Describe your experience with this exercise and the course. We have set up an anonymous option for this in ILIAS or you can write your feedback directly here in the notebook. Please note that your feedback will help us to improve the course."
      ]
    },
    {
      "cell_type": "code",
      "execution_count": null,
      "metadata": {
        "id": "ibbVeYswKCWZ"
      },
      "outputs": [],
      "source": []
    }
  ],
  "metadata": {
    "kernelspec": {
      "display_name": "Python 3 (ipykernel)",
      "language": "python",
      "name": "python3"
    },
    "language_info": {
      "codemirror_mode": {
        "name": "ipython",
        "version": 3
      },
      "file_extension": ".py",
      "mimetype": "text/x-python",
      "name": "python",
      "nbconvert_exporter": "python",
      "pygments_lexer": "ipython3",
      "version": "3.10.12"
    },
    "colab": {
      "provenance": []
    }
  },
  "nbformat": 4,
  "nbformat_minor": 0
}